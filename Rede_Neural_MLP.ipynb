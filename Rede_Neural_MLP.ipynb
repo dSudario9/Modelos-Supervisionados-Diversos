{
  "nbformat": 4,
  "nbformat_minor": 0,
  "metadata": {
    "colab": {
      "name": "Rede_Neural_MLP.ipynb",
      "provenance": [],
      "collapsed_sections": [],
      "include_colab_link": true
    },
    "kernelspec": {
      "name": "python3",
      "display_name": "Python 3"
    },
    "language_info": {
      "name": "python"
    }
  },
  "cells": [
    {
      "cell_type": "markdown",
      "metadata": {
        "id": "view-in-github",
        "colab_type": "text"
      },
      "source": [
        "<a href=\"https://colab.research.google.com/github/dSudario9/Modelos-Supervisionados-Diversos/blob/main/Rede_Neural_MLP.ipynb\" target=\"_parent\"><img src=\"https://colab.research.google.com/assets/colab-badge.svg\" alt=\"Open In Colab\"/></a>"
      ]
    },
    {
      "cell_type": "markdown",
      "metadata": {
        "id": "S7ET0dFhcOtA"
      },
      "source": [
        "***Criando Modelo de Classificação MLP Rede Neural ***"
      ]
    },
    {
      "cell_type": "code",
      "metadata": {
        "id": "HgPIaXLRcYMS"
      },
      "source": [
        "# import da Bibliotecas \n",
        "\n",
        "import pandas as pd "
      ],
      "execution_count": null,
      "outputs": []
    },
    {
      "cell_type": "markdown",
      "metadata": {
        "id": "7wSYO7hvciLG"
      },
      "source": [
        "EDA"
      ]
    },
    {
      "cell_type": "code",
      "metadata": {
        "id": "CWFL7lzVckF-"
      },
      "source": [
        "# Carregando base de dados \n",
        "df = pd.read_excel(\"/content/Bank_Personal_Loan_Modelling.xlsx\",sheet_name=\"Data\")"
      ],
      "execution_count": null,
      "outputs": []
    },
    {
      "cell_type": "code",
      "metadata": {
        "colab": {
          "base_uri": "https://localhost:8080/",
          "height": 204
        },
        "id": "fm5hC2mGdyLs",
        "outputId": "19214e3a-66e7-4787-d5ba-b5da45094ecc"
      },
      "source": [
        "df.head()"
      ],
      "execution_count": null,
      "outputs": [
        {
          "output_type": "execute_result",
          "data": {
            "text/html": [
              "<div>\n",
              "<style scoped>\n",
              "    .dataframe tbody tr th:only-of-type {\n",
              "        vertical-align: middle;\n",
              "    }\n",
              "\n",
              "    .dataframe tbody tr th {\n",
              "        vertical-align: top;\n",
              "    }\n",
              "\n",
              "    .dataframe thead th {\n",
              "        text-align: right;\n",
              "    }\n",
              "</style>\n",
              "<table border=\"1\" class=\"dataframe\">\n",
              "  <thead>\n",
              "    <tr style=\"text-align: right;\">\n",
              "      <th></th>\n",
              "      <th>Age</th>\n",
              "      <th>Experience</th>\n",
              "      <th>Income</th>\n",
              "      <th>Family</th>\n",
              "      <th>CCAvg</th>\n",
              "      <th>Education</th>\n",
              "      <th>Mortgage</th>\n",
              "      <th>Personal Loan</th>\n",
              "      <th>Securities Account</th>\n",
              "      <th>CD Account</th>\n",
              "      <th>Online</th>\n",
              "      <th>CreditCard</th>\n",
              "    </tr>\n",
              "  </thead>\n",
              "  <tbody>\n",
              "    <tr>\n",
              "      <th>9</th>\n",
              "      <td>34</td>\n",
              "      <td>9</td>\n",
              "      <td>180</td>\n",
              "      <td>1</td>\n",
              "      <td>8.9</td>\n",
              "      <td>3</td>\n",
              "      <td>0</td>\n",
              "      <td>1</td>\n",
              "      <td>0</td>\n",
              "      <td>0</td>\n",
              "      <td>0</td>\n",
              "      <td>0</td>\n",
              "    </tr>\n",
              "    <tr>\n",
              "      <th>16</th>\n",
              "      <td>38</td>\n",
              "      <td>14</td>\n",
              "      <td>130</td>\n",
              "      <td>4</td>\n",
              "      <td>4.7</td>\n",
              "      <td>3</td>\n",
              "      <td>134</td>\n",
              "      <td>1</td>\n",
              "      <td>0</td>\n",
              "      <td>0</td>\n",
              "      <td>0</td>\n",
              "      <td>0</td>\n",
              "    </tr>\n",
              "    <tr>\n",
              "      <th>18</th>\n",
              "      <td>46</td>\n",
              "      <td>21</td>\n",
              "      <td>193</td>\n",
              "      <td>2</td>\n",
              "      <td>8.1</td>\n",
              "      <td>3</td>\n",
              "      <td>0</td>\n",
              "      <td>1</td>\n",
              "      <td>0</td>\n",
              "      <td>0</td>\n",
              "      <td>0</td>\n",
              "      <td>0</td>\n",
              "    </tr>\n",
              "    <tr>\n",
              "      <th>29</th>\n",
              "      <td>38</td>\n",
              "      <td>13</td>\n",
              "      <td>119</td>\n",
              "      <td>1</td>\n",
              "      <td>3.3</td>\n",
              "      <td>2</td>\n",
              "      <td>0</td>\n",
              "      <td>1</td>\n",
              "      <td>0</td>\n",
              "      <td>1</td>\n",
              "      <td>1</td>\n",
              "      <td>1</td>\n",
              "    </tr>\n",
              "    <tr>\n",
              "      <th>38</th>\n",
              "      <td>42</td>\n",
              "      <td>18</td>\n",
              "      <td>141</td>\n",
              "      <td>3</td>\n",
              "      <td>5.0</td>\n",
              "      <td>3</td>\n",
              "      <td>0</td>\n",
              "      <td>1</td>\n",
              "      <td>1</td>\n",
              "      <td>1</td>\n",
              "      <td>1</td>\n",
              "      <td>0</td>\n",
              "    </tr>\n",
              "  </tbody>\n",
              "</table>\n",
              "</div>"
            ],
            "text/plain": [
              "    Age  Experience  Income  ...  CD Account  Online  CreditCard\n",
              "9    34           9     180  ...           0       0           0\n",
              "16   38          14     130  ...           0       0           0\n",
              "18   46          21     193  ...           0       0           0\n",
              "29   38          13     119  ...           1       1           1\n",
              "38   42          18     141  ...           1       1           0\n",
              "\n",
              "[5 rows x 12 columns]"
            ]
          },
          "metadata": {},
          "execution_count": 19
        }
      ]
    },
    {
      "cell_type": "code",
      "metadata": {
        "id": "IA0b1w0od-Si"
      },
      "source": [
        "# Excluindo variaveis nao uteís \n",
        "\n",
        "df= df.drop(columns=[\"ID\", \"ZIP Code\"])\n"
      ],
      "execution_count": null,
      "outputs": []
    },
    {
      "cell_type": "code",
      "metadata": {
        "colab": {
          "base_uri": "https://localhost:8080/",
          "height": 314
        },
        "id": "4C7KiffNeZax",
        "outputId": "fc81ef4b-79fd-45d6-eec9-3840f264ec1f"
      },
      "source": [
        "# Visualização de estatistica basica. \n",
        "df.describe()"
      ],
      "execution_count": null,
      "outputs": [
        {
          "output_type": "execute_result",
          "data": {
            "text/html": [
              "<div>\n",
              "<style scoped>\n",
              "    .dataframe tbody tr th:only-of-type {\n",
              "        vertical-align: middle;\n",
              "    }\n",
              "\n",
              "    .dataframe tbody tr th {\n",
              "        vertical-align: top;\n",
              "    }\n",
              "\n",
              "    .dataframe thead th {\n",
              "        text-align: right;\n",
              "    }\n",
              "</style>\n",
              "<table border=\"1\" class=\"dataframe\">\n",
              "  <thead>\n",
              "    <tr style=\"text-align: right;\">\n",
              "      <th></th>\n",
              "      <th>Age</th>\n",
              "      <th>Experience</th>\n",
              "      <th>Income</th>\n",
              "      <th>Family</th>\n",
              "      <th>CCAvg</th>\n",
              "      <th>Education</th>\n",
              "      <th>Mortgage</th>\n",
              "      <th>Personal Loan</th>\n",
              "      <th>Securities Account</th>\n",
              "      <th>CD Account</th>\n",
              "      <th>Online</th>\n",
              "      <th>CreditCard</th>\n",
              "    </tr>\n",
              "  </thead>\n",
              "  <tbody>\n",
              "    <tr>\n",
              "      <th>count</th>\n",
              "      <td>5000.000000</td>\n",
              "      <td>5000.000000</td>\n",
              "      <td>5000.000000</td>\n",
              "      <td>5000.000000</td>\n",
              "      <td>5000.000000</td>\n",
              "      <td>5000.000000</td>\n",
              "      <td>5000.000000</td>\n",
              "      <td>5000.000000</td>\n",
              "      <td>5000.000000</td>\n",
              "      <td>5000.00000</td>\n",
              "      <td>5000.000000</td>\n",
              "      <td>5000.000000</td>\n",
              "    </tr>\n",
              "    <tr>\n",
              "      <th>mean</th>\n",
              "      <td>45.338400</td>\n",
              "      <td>20.104600</td>\n",
              "      <td>73.774200</td>\n",
              "      <td>2.396400</td>\n",
              "      <td>1.937913</td>\n",
              "      <td>1.881000</td>\n",
              "      <td>56.498800</td>\n",
              "      <td>0.096000</td>\n",
              "      <td>0.104400</td>\n",
              "      <td>0.06040</td>\n",
              "      <td>0.596800</td>\n",
              "      <td>0.294000</td>\n",
              "    </tr>\n",
              "    <tr>\n",
              "      <th>std</th>\n",
              "      <td>11.463166</td>\n",
              "      <td>11.467954</td>\n",
              "      <td>46.033729</td>\n",
              "      <td>1.147663</td>\n",
              "      <td>1.747666</td>\n",
              "      <td>0.839869</td>\n",
              "      <td>101.713802</td>\n",
              "      <td>0.294621</td>\n",
              "      <td>0.305809</td>\n",
              "      <td>0.23825</td>\n",
              "      <td>0.490589</td>\n",
              "      <td>0.455637</td>\n",
              "    </tr>\n",
              "    <tr>\n",
              "      <th>min</th>\n",
              "      <td>23.000000</td>\n",
              "      <td>-3.000000</td>\n",
              "      <td>8.000000</td>\n",
              "      <td>1.000000</td>\n",
              "      <td>0.000000</td>\n",
              "      <td>1.000000</td>\n",
              "      <td>0.000000</td>\n",
              "      <td>0.000000</td>\n",
              "      <td>0.000000</td>\n",
              "      <td>0.00000</td>\n",
              "      <td>0.000000</td>\n",
              "      <td>0.000000</td>\n",
              "    </tr>\n",
              "    <tr>\n",
              "      <th>25%</th>\n",
              "      <td>35.000000</td>\n",
              "      <td>10.000000</td>\n",
              "      <td>39.000000</td>\n",
              "      <td>1.000000</td>\n",
              "      <td>0.700000</td>\n",
              "      <td>1.000000</td>\n",
              "      <td>0.000000</td>\n",
              "      <td>0.000000</td>\n",
              "      <td>0.000000</td>\n",
              "      <td>0.00000</td>\n",
              "      <td>0.000000</td>\n",
              "      <td>0.000000</td>\n",
              "    </tr>\n",
              "    <tr>\n",
              "      <th>50%</th>\n",
              "      <td>45.000000</td>\n",
              "      <td>20.000000</td>\n",
              "      <td>64.000000</td>\n",
              "      <td>2.000000</td>\n",
              "      <td>1.500000</td>\n",
              "      <td>2.000000</td>\n",
              "      <td>0.000000</td>\n",
              "      <td>0.000000</td>\n",
              "      <td>0.000000</td>\n",
              "      <td>0.00000</td>\n",
              "      <td>1.000000</td>\n",
              "      <td>0.000000</td>\n",
              "    </tr>\n",
              "    <tr>\n",
              "      <th>75%</th>\n",
              "      <td>55.000000</td>\n",
              "      <td>30.000000</td>\n",
              "      <td>98.000000</td>\n",
              "      <td>3.000000</td>\n",
              "      <td>2.500000</td>\n",
              "      <td>3.000000</td>\n",
              "      <td>101.000000</td>\n",
              "      <td>0.000000</td>\n",
              "      <td>0.000000</td>\n",
              "      <td>0.00000</td>\n",
              "      <td>1.000000</td>\n",
              "      <td>1.000000</td>\n",
              "    </tr>\n",
              "    <tr>\n",
              "      <th>max</th>\n",
              "      <td>67.000000</td>\n",
              "      <td>43.000000</td>\n",
              "      <td>224.000000</td>\n",
              "      <td>4.000000</td>\n",
              "      <td>10.000000</td>\n",
              "      <td>3.000000</td>\n",
              "      <td>635.000000</td>\n",
              "      <td>1.000000</td>\n",
              "      <td>1.000000</td>\n",
              "      <td>1.00000</td>\n",
              "      <td>1.000000</td>\n",
              "      <td>1.000000</td>\n",
              "    </tr>\n",
              "  </tbody>\n",
              "</table>\n",
              "</div>"
            ],
            "text/plain": [
              "               Age   Experience  ...       Online   CreditCard\n",
              "count  5000.000000  5000.000000  ...  5000.000000  5000.000000\n",
              "mean     45.338400    20.104600  ...     0.596800     0.294000\n",
              "std      11.463166    11.467954  ...     0.490589     0.455637\n",
              "min      23.000000    -3.000000  ...     0.000000     0.000000\n",
              "25%      35.000000    10.000000  ...     0.000000     0.000000\n",
              "50%      45.000000    20.000000  ...     1.000000     0.000000\n",
              "75%      55.000000    30.000000  ...     1.000000     1.000000\n",
              "max      67.000000    43.000000  ...     1.000000     1.000000\n",
              "\n",
              "[8 rows x 12 columns]"
            ]
          },
          "metadata": {},
          "execution_count": 10
        }
      ]
    },
    {
      "cell_type": "code",
      "metadata": {
        "colab": {
          "base_uri": "https://localhost:8080/"
        },
        "id": "tHWx5O8PefNx",
        "outputId": "617f3cb3-5a71-4883-edc9-2d62dd36e771"
      },
      "source": [
        "# Distribuição das Variaveis Alvo ou dados de entrada e saida.\n",
        "\n",
        "df [\"Personal Loan\"].value_counts()\n",
        "\n",
        "# Observando que a base esta desbalanceada ."
      ],
      "execution_count": null,
      "outputs": [
        {
          "output_type": "execute_result",
          "data": {
            "text/plain": [
              "0    4520\n",
              "1     480\n",
              "Name: Personal Loan, dtype: int64"
            ]
          },
          "metadata": {},
          "execution_count": 12
        }
      ]
    },
    {
      "cell_type": "code",
      "metadata": {
        "colab": {
          "base_uri": "https://localhost:8080/"
        },
        "id": "0rhtNWGhe6eR",
        "outputId": "1107164b-ad3b-49aa-fa7d-bb0ac4ffd2f4"
      },
      "source": [
        "df.info('Personal Loan')"
      ],
      "execution_count": null,
      "outputs": [
        {
          "output_type": "stream",
          "name": "stdout",
          "text": [
            "<class 'pandas.core.frame.DataFrame'>\n",
            "RangeIndex: 5000 entries, 0 to 4999\n",
            "Data columns (total 12 columns):\n",
            " #   Column              Non-Null Count  Dtype  \n",
            "---  ------              --------------  -----  \n",
            " 0   Age                 5000 non-null   int64  \n",
            " 1   Experience          5000 non-null   int64  \n",
            " 2   Income              5000 non-null   int64  \n",
            " 3   Family              5000 non-null   int64  \n",
            " 4   CCAvg               5000 non-null   float64\n",
            " 5   Education           5000 non-null   int64  \n",
            " 6   Mortgage            5000 non-null   int64  \n",
            " 7   Personal Loan       5000 non-null   int64  \n",
            " 8   Securities Account  5000 non-null   int64  \n",
            " 9   CD Account          5000 non-null   int64  \n",
            " 10  Online              5000 non-null   int64  \n",
            " 11  CreditCard          5000 non-null   int64  \n",
            "dtypes: float64(1), int64(11)\n",
            "memory usage: 468.9 KB\n"
          ]
        }
      ]
    },
    {
      "cell_type": "code",
      "metadata": {
        "id": "L3N9HTRmfW2O"
      },
      "source": [
        "# Pelo fato da base ser desbalanceada, não iremos usar toda a classe 0.\n",
        "# Iremos pegar uma amostra e juntar com o registros da classe 1 para podermos modelar de forma mais justa.\n",
        "\n",
        "df_classe_1 = df[df[\"Personal Loan\"] == 1]\n",
        "df_classe_0 = df[df[\"Personal Loan\"] == 0].sample(n=1500)\n",
        "df = df_classe_1.append(df_classe_0)"
      ],
      "execution_count": null,
      "outputs": []
    },
    {
      "cell_type": "markdown",
      "metadata": {
        "id": "kYbfjikscOHh"
      },
      "source": [
        "Criando Modelo \n"
      ]
    },
    {
      "cell_type": "code",
      "metadata": {
        "id": "7mYMkyhugkpG"
      },
      "source": [
        "# Dividindo preditores (X) e variável target (Y) dados de entrada e dados de saida \n",
        "\n",
        "X = df.drop(columns=[\"Personal Loan\"])\n",
        "Y = df[\"Personal Loan\"]"
      ],
      "execution_count": null,
      "outputs": []
    },
    {
      "cell_type": "markdown",
      "metadata": {
        "id": "iQWFdF7Qg1Mr"
      },
      "source": [
        "Separando bade de Train e Test "
      ]
    },
    {
      "cell_type": "code",
      "metadata": {
        "colab": {
          "base_uri": "https://localhost:8080/"
        },
        "id": "qUfpJ607g37U",
        "outputId": "e672b485-b65c-4118-bb6e-bfa1044f8c21"
      },
      "source": [
        "# Dividindo a base em treino e teste\n",
        "\n",
        "from sklearn.model_selection import train_test_split\n",
        "\n",
        "X_train, X_test, y_train, y_test = train_test_split(X, Y, test_size=0.2, random_state=7)\n",
        "\n",
        "print(f\"Shape X_train: {X_train.shape}\")\n",
        "print(f\"Shape y_train: {y_train.shape}\")\n",
        "print(f\"Shape X_test: {X_test.shape}\")\n",
        "print(f\"Shape y_test: {y_test.shape}\")"
      ],
      "execution_count": null,
      "outputs": [
        {
          "output_type": "stream",
          "name": "stdout",
          "text": [
            "Shape X_train: (1584, 11)\n",
            "Shape y_train: (1584,)\n",
            "Shape X_test: (396, 11)\n",
            "Shape y_test: (396,)\n"
          ]
        }
      ]
    },
    {
      "cell_type": "code",
      "metadata": {
        "id": "u_w9A1KnhQD9"
      },
      "source": [
        "# Observando que na base de dados a varial Personal Loan precisa de normalização uma ver que as casas deciamais estão diferentes. \n",
        "\n",
        "# Normalização das variáveis com StandardScaler\n",
        "\n",
        "from sklearn.preprocessing import StandardScaler\n",
        "\n",
        "scaler = StandardScaler()\n",
        "scaler.fit(X_train)\n",
        "\n",
        "X_train_scaled = scaler.transform(X_train)\n",
        "X_test_scaled = scaler.transform(X_test)\n",
        "\n",
        "# Transformanda para dataframe para visualização\n",
        "X_train = pd.DataFrame(X_train_scaled,columns = X_train.columns)\n",
        "X_test = pd.DataFrame(X_test_scaled,columns = X_test.columns)"
      ],
      "execution_count": null,
      "outputs": []
    },
    {
      "cell_type": "markdown",
      "metadata": {
        "id": "5MsZ3szjhyUZ"
      },
      "source": [
        "Criando Classificador "
      ]
    },
    {
      "cell_type": "code",
      "metadata": {
        "id": "qd75GjQFhxOf"
      },
      "source": [
        "# Classificador Multi Layer Perceptron\n",
        "\n",
        "from sklearn.neural_network import MLPClassifier\n",
        "from sklearn.metrics import accuracy_score\n",
        "\n",
        "clf = MLPClassifier(hidden_layer_sizes=(300, 100, 100),activation='relu')\n"
      ],
      "execution_count": null,
      "outputs": []
    },
    {
      "cell_type": "markdown",
      "metadata": {
        "id": "yLNWTVshh26I"
      },
      "source": [
        "Treinando Modelo "
      ]
    },
    {
      "cell_type": "code",
      "metadata": {
        "colab": {
          "base_uri": "https://localhost:8080/"
        },
        "id": "i7gOm7wCh46I",
        "outputId": "60e31b9e-ea87-4ad5-efa2-4939da275a6e"
      },
      "source": [
        "clf.fit(X_train,y_train)"
      ],
      "execution_count": null,
      "outputs": [
        {
          "output_type": "execute_result",
          "data": {
            "text/plain": [
              "MLPClassifier(hidden_layer_sizes=(300, 100, 100))"
            ]
          },
          "metadata": {},
          "execution_count": 80
        }
      ]
    },
    {
      "cell_type": "markdown",
      "metadata": {
        "id": "YbCqiUlIiC-R"
      },
      "source": [
        "Realizando predição "
      ]
    },
    {
      "cell_type": "code",
      "metadata": {
        "id": "jmxFU6ZLiE_g"
      },
      "source": [
        "y_pred = clf.predict(X_test)"
      ],
      "execution_count": null,
      "outputs": []
    },
    {
      "cell_type": "markdown",
      "metadata": {
        "id": "DzNgkSq4iNg_"
      },
      "source": [
        "Acurácia"
      ]
    },
    {
      "cell_type": "code",
      "metadata": {
        "colab": {
          "base_uri": "https://localhost:8080/"
        },
        "id": "CcGoRwfCiB9F",
        "outputId": "0a7b93c2-02e7-4ec6-eb94-e6a6f5166da8"
      },
      "source": [
        "accuracy_score(y_test ,y_pred)*100"
      ],
      "execution_count": null,
      "outputs": [
        {
          "output_type": "execute_result",
          "data": {
            "text/plain": [
              "96.71717171717171"
            ]
          },
          "metadata": {},
          "execution_count": 82
        }
      ]
    },
    {
      "cell_type": "markdown",
      "metadata": {
        "id": "ePh83GH-jPMC"
      },
      "source": [
        "Como observamos neste modelo conseguimos um resultado satisfatorio com acurácia de 96.71717171717171%. alteramos os  tamanhos de camadas escondidas de 100,50,20  para 300, 100,100, foi o melhor resultado que encontramos com o parametro ."
      ]
    },
    {
      "cell_type": "code",
      "metadata": {
        "id": "mAnr5TQplcvw"
      },
      "source": [
        "# Através da análise das variáveis e do dicionário, algums informações relevantes:\n",
        "\n",
        "\n",
        "# Variáveis categóricas:\n",
        "# Personal Loan (Empréstimo Pessoal) - Este cliente aceitou o empréstimo pessoal oferecido na última campanha? Esta é a nossa variável alvo\n",
        "# Securities Account (Conta de títulos) - O cliente possui conta de títulos no banco?\n",
        "# CD Account (Conta de CD) - O cliente tem uma conta de certificado de depósito (CD) no banco?\n",
        "# Online - O cliente usa serviços de banco pela Internet?\n",
        "# Credit Card - (Cartão de crédito) - O cliente usa um cartão de crédito emitido pelo UniversalBank?\n",
        "\n",
        "# Variáveis contínuas:\n",
        "\n",
        "# Age (Idade) Idade do cliente\n",
        "# Experience (Experiência) - anos de experiência\n",
        "# Income (Renda) - Renda anual em dólares\n",
        "# CCAvg (CCAvg) - gasto médio com cartão de crédito\n",
        "# Mortage (Hipoteca) - Valor da hipoteca da casa\n",
        "\n",
        "# Variáveis ​​categóricas ordinais:\n",
        "# Family (Família) - tamanho da família do cliente\n",
        "# Education (Educação) - nível de educação do cliente\n",
        "\n",
        "\n",
        "# A variável ID não adiciona nenhuma informação interessante. \n",
        "# Não há associação entre o ID de cliente de uma pessoa e o empréstimo, também não fornece nenhuma conclusão geral para futuros clientes de empréstimo em potencial. \n",
        "# Podemos desconsiderar essas informações para o modelo.\n",
        "# Zip code também pode ser desconsiderada, uma vez que a informação de distnância entre zip code pode não ser realidade"
      ],
      "execution_count": null,
      "outputs": []
    }
  ]
}