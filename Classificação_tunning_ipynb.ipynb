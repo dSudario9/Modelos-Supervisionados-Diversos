{
  "nbformat": 4,
  "nbformat_minor": 0,
  "metadata": {
    "colab": {
      "name": "Classificação_tunning_ipynb.ipynb",
      "provenance": [],
      "collapsed_sections": [],
      "include_colab_link": true
    },
    "kernelspec": {
      "name": "python3",
      "display_name": "Python 3"
    },
    "language_info": {
      "name": "python"
    }
  },
  "cells": [
    {
      "cell_type": "markdown",
      "metadata": {
        "id": "view-in-github",
        "colab_type": "text"
      },
      "source": [
        "<a href=\"https://colab.research.google.com/github/dSudario9/Modelos-Supervisionados-Diversos/blob/main/Classifica%C3%A7%C3%A3o_tunning_ipynb.ipynb\" target=\"_parent\"><img src=\"https://colab.research.google.com/assets/colab-badge.svg\" alt=\"Open In Colab\"/></a>"
      ]
    },
    {
      "cell_type": "markdown",
      "metadata": {
        "id": "dSU2ZdnuxaMj"
      },
      "source": [
        "*** Banco Thera Banck***\n",
        " \n",
        " ***O departamento quer Contruir um modelo de classificação  que os ajude a identificar os clientes potenciais com maior probabilidade de adquirir o emprestimo. Isso aumentará a taxa de sucesso e ao mesmo tempo reduzirá o custo da campanha. ***"
      ]
    },
    {
      "cell_type": "markdown",
      "metadata": {
        "id": "D66OKHacxyzg"
      },
      "source": [
        "A base de dados historica contém informações pessoas dos clientes e informações sobre produtos contratados. O arquivo também contém um dicionario das variaveis."
      ]
    },
    {
      "cell_type": "code",
      "metadata": {
        "id": "nVHdtdJm8z4c"
      },
      "source": [
        "# Import das bibliotecas basicas. \n",
        "import pandas as pd "
      ],
      "execution_count": null,
      "outputs": []
    },
    {
      "cell_type": "code",
      "metadata": {
        "id": "_1UXbmPr9xcH"
      },
      "source": [
        "# Carregando base de dados\n",
        "\n",
        "df = pd.read_excel(\"/content/Bank_Personal_Loan_Modelling.xlsx\", sheet_name='Data')"
      ],
      "execution_count": null,
      "outputs": []
    },
    {
      "cell_type": "code",
      "metadata": {
        "colab": {
          "base_uri": "https://localhost:8080/",
          "height": 204
        },
        "id": "o85b3IXZ9xeY",
        "outputId": "28efa693-3e10-453c-966c-244aacec02ea"
      },
      "source": [
        "df.head() # Visualizar df"
      ],
      "execution_count": null,
      "outputs": [
        {
          "output_type": "execute_result",
          "data": {
            "text/html": [
              "<div>\n",
              "<style scoped>\n",
              "    .dataframe tbody tr th:only-of-type {\n",
              "        vertical-align: middle;\n",
              "    }\n",
              "\n",
              "    .dataframe tbody tr th {\n",
              "        vertical-align: top;\n",
              "    }\n",
              "\n",
              "    .dataframe thead th {\n",
              "        text-align: right;\n",
              "    }\n",
              "</style>\n",
              "<table border=\"1\" class=\"dataframe\">\n",
              "  <thead>\n",
              "    <tr style=\"text-align: right;\">\n",
              "      <th></th>\n",
              "      <th>ID</th>\n",
              "      <th>Age</th>\n",
              "      <th>Experience</th>\n",
              "      <th>Income</th>\n",
              "      <th>ZIP Code</th>\n",
              "      <th>Family</th>\n",
              "      <th>CCAvg</th>\n",
              "      <th>Education</th>\n",
              "      <th>Mortgage</th>\n",
              "      <th>Personal Loan</th>\n",
              "      <th>Securities Account</th>\n",
              "      <th>CD Account</th>\n",
              "      <th>Online</th>\n",
              "      <th>CreditCard</th>\n",
              "    </tr>\n",
              "  </thead>\n",
              "  <tbody>\n",
              "    <tr>\n",
              "      <th>0</th>\n",
              "      <td>1</td>\n",
              "      <td>25</td>\n",
              "      <td>1</td>\n",
              "      <td>49</td>\n",
              "      <td>91107</td>\n",
              "      <td>4</td>\n",
              "      <td>1.6</td>\n",
              "      <td>1</td>\n",
              "      <td>0</td>\n",
              "      <td>0</td>\n",
              "      <td>1</td>\n",
              "      <td>0</td>\n",
              "      <td>0</td>\n",
              "      <td>0</td>\n",
              "    </tr>\n",
              "    <tr>\n",
              "      <th>1</th>\n",
              "      <td>2</td>\n",
              "      <td>45</td>\n",
              "      <td>19</td>\n",
              "      <td>34</td>\n",
              "      <td>90089</td>\n",
              "      <td>3</td>\n",
              "      <td>1.5</td>\n",
              "      <td>1</td>\n",
              "      <td>0</td>\n",
              "      <td>0</td>\n",
              "      <td>1</td>\n",
              "      <td>0</td>\n",
              "      <td>0</td>\n",
              "      <td>0</td>\n",
              "    </tr>\n",
              "    <tr>\n",
              "      <th>2</th>\n",
              "      <td>3</td>\n",
              "      <td>39</td>\n",
              "      <td>15</td>\n",
              "      <td>11</td>\n",
              "      <td>94720</td>\n",
              "      <td>1</td>\n",
              "      <td>1.0</td>\n",
              "      <td>1</td>\n",
              "      <td>0</td>\n",
              "      <td>0</td>\n",
              "      <td>0</td>\n",
              "      <td>0</td>\n",
              "      <td>0</td>\n",
              "      <td>0</td>\n",
              "    </tr>\n",
              "    <tr>\n",
              "      <th>3</th>\n",
              "      <td>4</td>\n",
              "      <td>35</td>\n",
              "      <td>9</td>\n",
              "      <td>100</td>\n",
              "      <td>94112</td>\n",
              "      <td>1</td>\n",
              "      <td>2.7</td>\n",
              "      <td>2</td>\n",
              "      <td>0</td>\n",
              "      <td>0</td>\n",
              "      <td>0</td>\n",
              "      <td>0</td>\n",
              "      <td>0</td>\n",
              "      <td>0</td>\n",
              "    </tr>\n",
              "    <tr>\n",
              "      <th>4</th>\n",
              "      <td>5</td>\n",
              "      <td>35</td>\n",
              "      <td>8</td>\n",
              "      <td>45</td>\n",
              "      <td>91330</td>\n",
              "      <td>4</td>\n",
              "      <td>1.0</td>\n",
              "      <td>2</td>\n",
              "      <td>0</td>\n",
              "      <td>0</td>\n",
              "      <td>0</td>\n",
              "      <td>0</td>\n",
              "      <td>0</td>\n",
              "      <td>1</td>\n",
              "    </tr>\n",
              "  </tbody>\n",
              "</table>\n",
              "</div>"
            ],
            "text/plain": [
              "   ID  Age  Experience  ...  CD Account  Online  CreditCard\n",
              "0   1   25           1  ...           0       0           0\n",
              "1   2   45          19  ...           0       0           0\n",
              "2   3   39          15  ...           0       0           0\n",
              "3   4   35           9  ...           0       0           0\n",
              "4   5   35           8  ...           0       0           1\n",
              "\n",
              "[5 rows x 14 columns]"
            ]
          },
          "metadata": {},
          "execution_count": 3
        }
      ]
    },
    {
      "cell_type": "code",
      "metadata": {
        "id": "GU9grOhGG8nC"
      },
      "source": [
        "# Através da análise das variáveis e do dicionário, algums informações relevantes:\n",
        "\n",
        "\n",
        "# Variáveis categóricas:\n",
        "# Personal Loan (Empréstimo Pessoal) - Este cliente aceitou o empréstimo pessoal oferecido na última campanha? Esta é a nossa variável alvo\n",
        "# Securities Account (Conta de títulos) - O cliente possui conta de títulos no banco?\n",
        "# CD Account (Conta de CD) - O cliente tem uma conta de certificado de depósito (CD) no banco?\n",
        "# Online - O cliente usa serviços de banco pela Internet?\n",
        "# Credit Card - (Cartão de crédito) - O cliente usa um cartão de crédito emitido pelo UniversalBank?\n",
        "\n",
        "# Variáveis contínuas:\n",
        "\n",
        "# Age (Idade) Idade do cliente\n",
        "# Experience (Experiência) - anos de experiência\n",
        "# Income (Renda) - Renda anual em dólares\n",
        "# CCAvg (CCAvg) - gasto médio com cartão de crédito\n",
        "# Mortage (Hipoteca) - Valor da hipoteca da casa\n",
        "\n",
        "# Variáveis ​​categóricas ordinais:\n",
        "# Family (Família) - tamanho da família do cliente\n",
        "# Education (Educação) - nível de educação do cliente\n",
        "\n",
        "\n",
        "# A variável ID não adiciona nenhuma informação interessante. \n",
        "# Não há associação entre o ID de cliente de uma pessoa e o empréstimo, também não fornece nenhuma conclusão geral para futuros clientes de empréstimo em potencial. \n",
        "# Podemos desconsiderar essas informações para o modelo.\n",
        "# Zip code também pode ser descosiderada, uma vez que a informação de distnância entre zip code pode não ser realidade\n",
        "\n"
      ],
      "execution_count": null,
      "outputs": []
    },
    {
      "cell_type": "code",
      "metadata": {
        "id": "lgbY3CqWIyTa"
      },
      "source": [
        "#Excluindo variáveis não úteis\n",
        "\n",
        "df = df.drop(columns=[\"ID\", \"ZIP Code\"])"
      ],
      "execution_count": null,
      "outputs": []
    },
    {
      "cell_type": "code",
      "metadata": {
        "colab": {
          "base_uri": "https://localhost:8080/",
          "height": 421
        },
        "id": "Hygl6OisLEwp",
        "outputId": "65d6ff27-ded7-4a51-b659-e2ae347b0541"
      },
      "source": [
        "# Estatística básica das variáveis\n",
        "\n",
        "df.describe().transpose()"
      ],
      "execution_count": null,
      "outputs": [
        {
          "output_type": "execute_result",
          "data": {
            "text/html": [
              "<div>\n",
              "<style scoped>\n",
              "    .dataframe tbody tr th:only-of-type {\n",
              "        vertical-align: middle;\n",
              "    }\n",
              "\n",
              "    .dataframe tbody tr th {\n",
              "        vertical-align: top;\n",
              "    }\n",
              "\n",
              "    .dataframe thead th {\n",
              "        text-align: right;\n",
              "    }\n",
              "</style>\n",
              "<table border=\"1\" class=\"dataframe\">\n",
              "  <thead>\n",
              "    <tr style=\"text-align: right;\">\n",
              "      <th></th>\n",
              "      <th>count</th>\n",
              "      <th>mean</th>\n",
              "      <th>std</th>\n",
              "      <th>min</th>\n",
              "      <th>25%</th>\n",
              "      <th>50%</th>\n",
              "      <th>75%</th>\n",
              "      <th>max</th>\n",
              "    </tr>\n",
              "  </thead>\n",
              "  <tbody>\n",
              "    <tr>\n",
              "      <th>Age</th>\n",
              "      <td>5000.0</td>\n",
              "      <td>45.338400</td>\n",
              "      <td>11.463166</td>\n",
              "      <td>23.0</td>\n",
              "      <td>35.0</td>\n",
              "      <td>45.0</td>\n",
              "      <td>55.0</td>\n",
              "      <td>67.0</td>\n",
              "    </tr>\n",
              "    <tr>\n",
              "      <th>Experience</th>\n",
              "      <td>5000.0</td>\n",
              "      <td>20.104600</td>\n",
              "      <td>11.467954</td>\n",
              "      <td>-3.0</td>\n",
              "      <td>10.0</td>\n",
              "      <td>20.0</td>\n",
              "      <td>30.0</td>\n",
              "      <td>43.0</td>\n",
              "    </tr>\n",
              "    <tr>\n",
              "      <th>Income</th>\n",
              "      <td>5000.0</td>\n",
              "      <td>73.774200</td>\n",
              "      <td>46.033729</td>\n",
              "      <td>8.0</td>\n",
              "      <td>39.0</td>\n",
              "      <td>64.0</td>\n",
              "      <td>98.0</td>\n",
              "      <td>224.0</td>\n",
              "    </tr>\n",
              "    <tr>\n",
              "      <th>Family</th>\n",
              "      <td>5000.0</td>\n",
              "      <td>2.396400</td>\n",
              "      <td>1.147663</td>\n",
              "      <td>1.0</td>\n",
              "      <td>1.0</td>\n",
              "      <td>2.0</td>\n",
              "      <td>3.0</td>\n",
              "      <td>4.0</td>\n",
              "    </tr>\n",
              "    <tr>\n",
              "      <th>CCAvg</th>\n",
              "      <td>5000.0</td>\n",
              "      <td>1.937913</td>\n",
              "      <td>1.747666</td>\n",
              "      <td>0.0</td>\n",
              "      <td>0.7</td>\n",
              "      <td>1.5</td>\n",
              "      <td>2.5</td>\n",
              "      <td>10.0</td>\n",
              "    </tr>\n",
              "    <tr>\n",
              "      <th>Education</th>\n",
              "      <td>5000.0</td>\n",
              "      <td>1.881000</td>\n",
              "      <td>0.839869</td>\n",
              "      <td>1.0</td>\n",
              "      <td>1.0</td>\n",
              "      <td>2.0</td>\n",
              "      <td>3.0</td>\n",
              "      <td>3.0</td>\n",
              "    </tr>\n",
              "    <tr>\n",
              "      <th>Mortgage</th>\n",
              "      <td>5000.0</td>\n",
              "      <td>56.498800</td>\n",
              "      <td>101.713802</td>\n",
              "      <td>0.0</td>\n",
              "      <td>0.0</td>\n",
              "      <td>0.0</td>\n",
              "      <td>101.0</td>\n",
              "      <td>635.0</td>\n",
              "    </tr>\n",
              "    <tr>\n",
              "      <th>Personal Loan</th>\n",
              "      <td>5000.0</td>\n",
              "      <td>0.096000</td>\n",
              "      <td>0.294621</td>\n",
              "      <td>0.0</td>\n",
              "      <td>0.0</td>\n",
              "      <td>0.0</td>\n",
              "      <td>0.0</td>\n",
              "      <td>1.0</td>\n",
              "    </tr>\n",
              "    <tr>\n",
              "      <th>Securities Account</th>\n",
              "      <td>5000.0</td>\n",
              "      <td>0.104400</td>\n",
              "      <td>0.305809</td>\n",
              "      <td>0.0</td>\n",
              "      <td>0.0</td>\n",
              "      <td>0.0</td>\n",
              "      <td>0.0</td>\n",
              "      <td>1.0</td>\n",
              "    </tr>\n",
              "    <tr>\n",
              "      <th>CD Account</th>\n",
              "      <td>5000.0</td>\n",
              "      <td>0.060400</td>\n",
              "      <td>0.238250</td>\n",
              "      <td>0.0</td>\n",
              "      <td>0.0</td>\n",
              "      <td>0.0</td>\n",
              "      <td>0.0</td>\n",
              "      <td>1.0</td>\n",
              "    </tr>\n",
              "    <tr>\n",
              "      <th>Online</th>\n",
              "      <td>5000.0</td>\n",
              "      <td>0.596800</td>\n",
              "      <td>0.490589</td>\n",
              "      <td>0.0</td>\n",
              "      <td>0.0</td>\n",
              "      <td>1.0</td>\n",
              "      <td>1.0</td>\n",
              "      <td>1.0</td>\n",
              "    </tr>\n",
              "    <tr>\n",
              "      <th>CreditCard</th>\n",
              "      <td>5000.0</td>\n",
              "      <td>0.294000</td>\n",
              "      <td>0.455637</td>\n",
              "      <td>0.0</td>\n",
              "      <td>0.0</td>\n",
              "      <td>0.0</td>\n",
              "      <td>1.0</td>\n",
              "      <td>1.0</td>\n",
              "    </tr>\n",
              "  </tbody>\n",
              "</table>\n",
              "</div>"
            ],
            "text/plain": [
              "                     count       mean         std  ...   50%    75%    max\n",
              "Age                 5000.0  45.338400   11.463166  ...  45.0   55.0   67.0\n",
              "Experience          5000.0  20.104600   11.467954  ...  20.0   30.0   43.0\n",
              "Income              5000.0  73.774200   46.033729  ...  64.0   98.0  224.0\n",
              "Family              5000.0   2.396400    1.147663  ...   2.0    3.0    4.0\n",
              "CCAvg               5000.0   1.937913    1.747666  ...   1.5    2.5   10.0\n",
              "Education           5000.0   1.881000    0.839869  ...   2.0    3.0    3.0\n",
              "Mortgage            5000.0  56.498800  101.713802  ...   0.0  101.0  635.0\n",
              "Personal Loan       5000.0   0.096000    0.294621  ...   0.0    0.0    1.0\n",
              "Securities Account  5000.0   0.104400    0.305809  ...   0.0    0.0    1.0\n",
              "CD Account          5000.0   0.060400    0.238250  ...   0.0    0.0    1.0\n",
              "Online              5000.0   0.596800    0.490589  ...   1.0    1.0    1.0\n",
              "CreditCard          5000.0   0.294000    0.455637  ...   0.0    1.0    1.0\n",
              "\n",
              "[12 rows x 8 columns]"
            ]
          },
          "metadata": {},
          "execution_count": 5
        }
      ]
    },
    {
      "cell_type": "code",
      "metadata": {
        "id": "mbFluAXxWLga",
        "colab": {
          "base_uri": "https://localhost:8080/"
        },
        "outputId": "874ab5b8-c051-4872-f563-0fe4d36abc1e"
      },
      "source": [
        "# Distruibuição da variáveis target \n",
        "df[\"Personal Loan\"].value_counts()\n"
      ],
      "execution_count": null,
      "outputs": [
        {
          "output_type": "execute_result",
          "data": {
            "text/plain": [
              "0    1500\n",
              "1     480\n",
              "Name: Personal Loan, dtype: int64"
            ]
          },
          "metadata": {},
          "execution_count": 8
        }
      ]
    },
    {
      "cell_type": "code",
      "metadata": {
        "id": "kp81PYukWLXR"
      },
      "source": [
        "# Pelo fato da base ser desbalanceada, não iremos usar toda a classe 0.\n",
        "# Iremos pegar uma amostra e juntar com o registros da classe 1 para podermos modelar de forma mais justa.\n",
        "\n",
        "df_classe_1 = df[df[\"Personal Loan\"] == 1]\n",
        "df_classe_0 = df[df[\"Personal Loan\"] == 0].sample(n=1500)\n",
        "df = df_classe_1.append(df_classe_0)"
      ],
      "execution_count": null,
      "outputs": []
    },
    {
      "cell_type": "code",
      "metadata": {
        "id": "ose9DTVc9xjN"
      },
      "source": [
        "# Dividindo preditores (X) e variável target (Y)\n",
        "\n",
        "X = df.drop(columns=[\"Personal Loan\"])\n",
        "Y = df[\"Personal Loan\"]"
      ],
      "execution_count": null,
      "outputs": []
    },
    {
      "cell_type": "code",
      "metadata": {
        "id": "ZJJCOpJz9xll",
        "colab": {
          "base_uri": "https://localhost:8080/"
        },
        "outputId": "0f4a9541-6481-442c-c248-965ef39eb35f"
      },
      "source": [
        "# Dividindo a base em treino e teste\n",
        "\n",
        "from sklearn.model_selection import train_test_split\n",
        "\n",
        "X_train, X_test, y_train, y_test = train_test_split(X, Y, test_size=0.2, random_state=7)\n",
        "\n",
        "print(f\"Shape X_train: {X_train.shape}\")\n",
        "print(f\"Shape y_train: {y_train.shape}\")\n",
        "print(f\"Shape X_test: {X_test.shape}\")\n",
        "print(f\"Shape y_test: {y_test.shape}\")"
      ],
      "execution_count": null,
      "outputs": [
        {
          "output_type": "stream",
          "name": "stdout",
          "text": [
            "Shape X_train: (1584, 11)\n",
            "Shape y_train: (1584,)\n",
            "Shape X_test: (396, 11)\n",
            "Shape y_test: (396,)\n"
          ]
        }
      ]
    },
    {
      "cell_type": "code",
      "metadata": {
        "id": "vIXmfr5_XW4B"
      },
      "source": [
        "# Import modelo Selecionado  GridSearchCV\n",
        "from sklearn.model_selection import GridSearchCV\n"
      ],
      "execution_count": null,
      "outputs": []
    },
    {
      "cell_type": "code",
      "metadata": {
        "id": "qDklHurSXRKM"
      },
      "source": [
        "# Dicionario para nossos parametros buscar as melhores metricas.\n",
        "param_grid = {\n",
        "    'bootstrap': [True, False],\n",
        "    'max_depth': [None, 80, 110],\n",
        "    'max_features': [None, 2, 3, 4],\n",
        "    'min_samples_leaf': [1,2,3],\n",
        "    'min_samples_split': [2, 3, 4],\n",
        "    'n_estimators': [50,100, 200],\n",
        "    'criterion':['gini', 'entropy']\n",
        "}"
      ],
      "execution_count": null,
      "outputs": []
    },
    {
      "cell_type": "code",
      "metadata": {
        "colab": {
          "base_uri": "https://localhost:8080/"
        },
        "id": "ywvv80cEXZwW",
        "outputId": "6ce99b95-888b-4889-a503-55143a764545"
      },
      "source": [
        "# Classificador RandomForestClassifier\n",
        "from sklearn.ensemble import RandomForestClassifier\n",
        "\n",
        "clf = RandomForestClassifier()\n",
        "\n",
        "# Fazendo Busca de Imperparametros \n",
        "grid_search = GridSearchCV(estimator=clf, param_grid=param_grid, \n",
        "                          cv=3, n_jobs=-1, verbose=2)\n",
        "\n",
        "# Selecionando os melhores parametros\n",
        "\n",
        "grid_search.fit(X_train, y_train)"
      ],
      "execution_count": null,
      "outputs": [
        {
          "output_type": "stream",
          "name": "stdout",
          "text": [
            "Fitting 3 folds for each of 1296 candidates, totalling 3888 fits\n"
          ]
        },
        {
          "output_type": "execute_result",
          "data": {
            "text/plain": [
              "GridSearchCV(cv=3, estimator=RandomForestClassifier(), n_jobs=-1,\n",
              "             param_grid={'bootstrap': [True, False],\n",
              "                         'criterion': ['gini', 'entropy'],\n",
              "                         'max_depth': [None, 80, 110],\n",
              "                         'max_features': [None, 2, 3, 4],\n",
              "                         'min_samples_leaf': [1, 2, 3],\n",
              "                         'min_samples_split': [2, 3, 4],\n",
              "                         'n_estimators': [50, 100, 200]},\n",
              "             verbose=2)"
            ]
          },
          "metadata": {},
          "execution_count": 18
        }
      ]
    },
    {
      "cell_type": "code",
      "metadata": {
        "colab": {
          "base_uri": "https://localhost:8080/"
        },
        "id": "zpU8Vob_XfWg",
        "outputId": "853d0491-08ec-4135-d0c9-9e9170e823ec"
      },
      "source": [
        "# Visualizando os melhores parametros encontrados. \n",
        "grid_search.best_params_"
      ],
      "execution_count": null,
      "outputs": [
        {
          "output_type": "execute_result",
          "data": {
            "text/plain": [
              "{'bootstrap': False,\n",
              " 'criterion': 'entropy',\n",
              " 'max_depth': 80,\n",
              " 'max_features': 3,\n",
              " 'min_samples_leaf': 2,\n",
              " 'min_samples_split': 4,\n",
              " 'n_estimators': 100}"
            ]
          },
          "metadata": {},
          "execution_count": 20
        }
      ]
    },
    {
      "cell_type": "code",
      "metadata": {
        "colab": {
          "base_uri": "https://localhost:8080/"
        },
        "id": "MUHxT9HLO_R4",
        "outputId": "9d114f84-1884-40c1-f37e-53da83bd656f"
      },
      "source": [
        "# Classificador Random Forest\n",
        "# Configurando com os melhores parametros encontrados pelo grid search\n",
        "\n",
        "clf = RandomForestClassifier( bootstrap=False,\n",
        "                              criterion='gini',\n",
        "                              max_depth=110,\n",
        "                              max_features=3,\n",
        "                              min_samples_leaf=1,\n",
        "                              min_samples_split=4,\n",
        "                             n_estimators=50) \n",
        "# Treinando Classificador \n",
        "clf.fit(X_train,y_train)"
      ],
      "execution_count": null,
      "outputs": [
        {
          "output_type": "execute_result",
          "data": {
            "text/plain": [
              "RandomForestClassifier(bootstrap=False, max_depth=110, max_features=3,\n",
              "                       min_samples_split=4, n_estimators=50)"
            ]
          },
          "metadata": {},
          "execution_count": 24
        }
      ]
    },
    {
      "cell_type": "code",
      "metadata": {
        "colab": {
          "base_uri": "https://localhost:8080/"
        },
        "id": "Xm4uR1mkPLMN",
        "outputId": "0e429915-6343-412b-be19-ace080855c3e"
      },
      "source": [
        "# Resultado do Modelo .\n",
        "from sklearn.metrics import accuracy_score\n",
        "\n",
        "y_pred = clf.predict(X_test)\n",
        "\n",
        "print(f\"Acurácia: {accuracy_score(y_test, y_pred)*100}%\")"
      ],
      "execution_count": null,
      "outputs": [
        {
          "output_type": "stream",
          "name": "stdout",
          "text": [
            "Acurácia: 97.97979797979798%\n"
          ]
        }
      ]
    },
    {
      "cell_type": "markdown",
      "metadata": {
        "id": "Lg_OA38I79T2"
      },
      "source": [
        "Como podemos vizualizar neste modelo tivemos uma Acurácia: 97.97979797979798%, que faz dele o melhor resultado . "
      ]
    }
  ]
}