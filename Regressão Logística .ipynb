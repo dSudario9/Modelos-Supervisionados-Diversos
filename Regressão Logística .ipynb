{
 "cells": [
  {
   "cell_type": "code",
   "execution_count": 118,
   "id": "4fa956a7",
   "metadata": {},
   "outputs": [],
   "source": [
    "#Bibliotecas basicas . \n",
    "import pandas as pd \n"
   ]
  },
  {
   "cell_type": "code",
   "execution_count": 119,
   "id": "91498813",
   "metadata": {},
   "outputs": [
    {
     "data": {
      "text/html": [
       "<div>\n",
       "<style scoped>\n",
       "    .dataframe tbody tr th:only-of-type {\n",
       "        vertical-align: middle;\n",
       "    }\n",
       "\n",
       "    .dataframe tbody tr th {\n",
       "        vertical-align: top;\n",
       "    }\n",
       "\n",
       "    .dataframe thead th {\n",
       "        text-align: right;\n",
       "    }\n",
       "</style>\n",
       "<table border=\"1\" class=\"dataframe\">\n",
       "  <thead>\n",
       "    <tr style=\"text-align: right;\">\n",
       "      <th></th>\n",
       "      <th>sepal length (cm)</th>\n",
       "      <th>sepal width (cm)</th>\n",
       "      <th>petal length (cm)</th>\n",
       "      <th>petal width (cm)</th>\n",
       "      <th>target</th>\n",
       "      <th>target_name</th>\n",
       "    </tr>\n",
       "  </thead>\n",
       "  <tbody>\n",
       "    <tr>\n",
       "      <th>0</th>\n",
       "      <td>5.1</td>\n",
       "      <td>3.5</td>\n",
       "      <td>1.4</td>\n",
       "      <td>0.2</td>\n",
       "      <td>0</td>\n",
       "      <td>setosa</td>\n",
       "    </tr>\n",
       "    <tr>\n",
       "      <th>1</th>\n",
       "      <td>4.9</td>\n",
       "      <td>3.0</td>\n",
       "      <td>1.4</td>\n",
       "      <td>0.2</td>\n",
       "      <td>0</td>\n",
       "      <td>setosa</td>\n",
       "    </tr>\n",
       "    <tr>\n",
       "      <th>2</th>\n",
       "      <td>4.7</td>\n",
       "      <td>3.2</td>\n",
       "      <td>1.3</td>\n",
       "      <td>0.2</td>\n",
       "      <td>0</td>\n",
       "      <td>setosa</td>\n",
       "    </tr>\n",
       "    <tr>\n",
       "      <th>3</th>\n",
       "      <td>4.6</td>\n",
       "      <td>3.1</td>\n",
       "      <td>1.5</td>\n",
       "      <td>0.2</td>\n",
       "      <td>0</td>\n",
       "      <td>setosa</td>\n",
       "    </tr>\n",
       "    <tr>\n",
       "      <th>4</th>\n",
       "      <td>5.0</td>\n",
       "      <td>3.6</td>\n",
       "      <td>1.4</td>\n",
       "      <td>0.2</td>\n",
       "      <td>0</td>\n",
       "      <td>setosa</td>\n",
       "    </tr>\n",
       "  </tbody>\n",
       "</table>\n",
       "</div>"
      ],
      "text/plain": [
       "   sepal length (cm)  sepal width (cm)  petal length (cm)  petal width (cm)  \\\n",
       "0                5.1               3.5                1.4               0.2   \n",
       "1                4.9               3.0                1.4               0.2   \n",
       "2                4.7               3.2                1.3               0.2   \n",
       "3                4.6               3.1                1.5               0.2   \n",
       "4                5.0               3.6                1.4               0.2   \n",
       "\n",
       "   target target_name  \n",
       "0       0      setosa  \n",
       "1       0      setosa  \n",
       "2       0      setosa  \n",
       "3       0      setosa  \n",
       "4       0      setosa  "
      ]
     },
     "execution_count": 119,
     "metadata": {},
     "output_type": "execute_result"
    }
   ],
   "source": [
    "#Importando Dataset\n",
    "iris_df = pd.read_csv('iris.csv',index_col=0)\n",
    "iris_df.head() #Leitura "
   ]
  },
  {
   "cell_type": "code",
   "execution_count": 120,
   "id": "dcf1e548",
   "metadata": {},
   "outputs": [],
   "source": [
    "#Vamos iniciar a separação dos dados para fazer o text \n",
    "\n",
    "# Import  de blibliotecas usadas para Modelo Regressão Logistico . \n",
    "from sklearn.linear_model import LogisticRegression\n",
    "from sklearn.model_selection import train_test_split"
   ]
  },
  {
   "cell_type": "code",
   "execution_count": 121,
   "id": "673c188e",
   "metadata": {},
   "outputs": [],
   "source": [
    "#DROP DE COLUNAS QUE NAO USAREMOS . \n",
    "\n",
    "X = iris_df.drop(columns=[\"target\",\"target_name\"])\n",
    "y = iris_df[[\"target\"]]"
   ]
  },
  {
   "cell_type": "code",
   "execution_count": 122,
   "id": "9e1b93ee",
   "metadata": {},
   "outputs": [],
   "source": [
    " #Preparando Modelo e usando 30% dos dados para test\n",
    "\n",
    "X_train, X_test, y_train, y_test = train_test_split(X, y ,test_size=0.3)\n"
   ]
  },
  {
   "cell_type": "code",
   "execution_count": 123,
   "id": "9f079db4",
   "metadata": {},
   "outputs": [
    {
     "name": "stdout",
     "output_type": "stream",
     "text": [
      "Linhas e Colunas (105, 4)\n",
      "Linhas e Colunas (45, 4)\n",
      "Linhas e Colunas (105, 1)\n",
      "Linhas e Colunas (45, 1)\n"
     ]
    }
   ],
   "source": [
    "#Conferir o tamanho das amostras. \n",
    "\n",
    "print(\"Linhas e Colunas\",X_train.shape)\n",
    "print(\"Linhas e Colunas\",X_test.shape)\n",
    "print(\"Linhas e Colunas\",y_train.shape)\n",
    "print(\"Linhas e Colunas\",y_test.shape)\n",
    "\n",
    "#Dados preparados para Alimentar nosso modelo . "
   ]
  },
  {
   "cell_type": "code",
   "execution_count": 124,
   "id": "4387a414",
   "metadata": {},
   "outputs": [],
   "source": [
    "#Construindo Classificador Regressão Logistica .\n",
    "\n",
    "#Modelo  'clf = LogisticRegression()''\n",
    "\n",
    "clf = LogisticRegression()\n"
   ]
  },
  {
   "cell_type": "code",
   "execution_count": 125,
   "id": "90ae87de",
   "metadata": {
    "scrolled": true
   },
   "outputs": [
    {
     "name": "stderr",
     "output_type": "stream",
     "text": [
      "C:\\ProgramData\\Anaconda3\\lib\\site-packages\\sklearn\\utils\\validation.py:63: DataConversionWarning: A column-vector y was passed when a 1d array was expected. Please change the shape of y to (n_samples, ), for example using ravel().\n",
      "  return f(*args, **kwargs)\n"
     ]
    },
    {
     "data": {
      "text/plain": [
       "LogisticRegression()"
      ]
     },
     "execution_count": 125,
     "metadata": {},
     "output_type": "execute_result"
    }
   ],
   "source": [
    "# Processo de Treinar Modelo, (Nesse Topico mostramos  pro Modelo LogisticRegression quais features devem ser treinados )\n",
    "\n",
    "\n",
    "clf.fit(X_train, y_train)"
   ]
  },
  {
   "cell_type": "code",
   "execution_count": 126,
   "id": "525d9c96",
   "metadata": {},
   "outputs": [],
   "source": [
    "#Agora vamos fazer a predição da nossa amostra de teste e verificar se o modelo consegiu performar. \n",
    "\n",
    "y_pred = clf.predict(X_test)\n"
   ]
  },
  {
   "cell_type": "code",
   "execution_count": 129,
   "id": "80561ee9",
   "metadata": {},
   "outputs": [
    {
     "data": {
      "text/plain": [
       "array([1, 0, 2, 0, 2, 0, 1, 0, 0, 0, 0, 2, 2, 1, 0, 2, 2, 2, 2, 1, 1, 0,\n",
       "       1, 2, 2, 1, 0, 1, 1, 1, 1, 0, 1, 2, 1, 1, 2, 1, 2, 2, 1, 2, 2, 2,\n",
       "       2], dtype=int64)"
      ]
     },
     "execution_count": 129,
     "metadata": {},
     "output_type": "execute_result"
    }
   ],
   "source": [
    "#Vizualizar Y_PRED\n",
    "\n",
    "y_pred"
   ]
  },
  {
   "cell_type": "code",
   "execution_count": 130,
   "id": "ffe87da1",
   "metadata": {},
   "outputs": [
    {
     "data": {
      "text/plain": [
       "95.55555555555556"
      ]
     },
     "execution_count": 130,
     "metadata": {},
     "output_type": "execute_result"
    }
   ],
   "source": [
    "#Aqui mostra a  performace do modelo que o modelo consegiu treinar .\n",
    "\n",
    "# \n",
    "from sklearn.metrics import accuracy_score\n",
    "\n",
    "accuracy_score(y_test,y_pred)*100"
   ]
  }
 ],
 "metadata": {
  "kernelspec": {
   "display_name": "Python 3 (ipykernel)",
   "language": "python",
   "name": "python3"
  },
  "language_info": {
   "codemirror_mode": {
    "name": "ipython",
    "version": 3
   },
   "file_extension": ".py",
   "mimetype": "text/x-python",
   "name": "python",
   "nbconvert_exporter": "python",
   "pygments_lexer": "ipython3",
   "version": "3.8.12"
  }
 },
 "nbformat": 4,
 "nbformat_minor": 5
}
