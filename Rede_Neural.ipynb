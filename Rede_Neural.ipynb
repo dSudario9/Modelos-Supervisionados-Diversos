{
  "nbformat": 4,
  "nbformat_minor": 0,
  "metadata": {
    "colab": {
      "name": "Rede_Neural.ipynb",
      "provenance": [],
      "collapsed_sections": [],
      "include_colab_link": true
    },
    "kernelspec": {
      "name": "python3",
      "display_name": "Python 3"
    },
    "language_info": {
      "name": "python"
    }
  },
  "cells": [
    {
      "cell_type": "markdown",
      "metadata": {
        "id": "view-in-github",
        "colab_type": "text"
      },
      "source": [
        "<a href=\"https://colab.research.google.com/github/dSudario9/Modelos-Supervisionados-Diversos/blob/main/Rede_Neural.ipynb\" target=\"_parent\"><img src=\"https://colab.research.google.com/assets/colab-badge.svg\" alt=\"Open In Colab\"/></a>"
      ]
    },
    {
      "cell_type": "markdown",
      "metadata": {
        "id": "6nemcyjH7mAy"
      },
      "source": [
        ""
      ]
    },
    {
      "cell_type": "code",
      "metadata": {
        "id": "JPT9DSGO7n0e"
      },
      "source": [
        "# Import Bibliotecas \n",
        "\n",
        "import pandas as pd\n",
        "import numpy as np \n",
        "\n"
      ],
      "execution_count": null,
      "outputs": []
    },
    {
      "cell_type": "markdown",
      "metadata": {
        "id": "48TGoeiz783W"
      },
      "source": [
        "EDA"
      ]
    },
    {
      "cell_type": "code",
      "metadata": {
        "id": "JYaewpml7-K9"
      },
      "source": [
        "df = pd.read_csv(\"/content/breast_cancer.csv\")"
      ],
      "execution_count": null,
      "outputs": []
    },
    {
      "cell_type": "code",
      "metadata": {
        "colab": {
          "base_uri": "https://localhost:8080/",
          "height": 224
        },
        "id": "c7XheF_L8WUf",
        "outputId": "51f14da7-0ef3-4ce3-96fe-b0e94adc601a"
      },
      "source": [
        "df.head()"
      ],
      "execution_count": null,
      "outputs": [
        {
          "output_type": "execute_result",
          "data": {
            "text/html": [
              "<div>\n",
              "<style scoped>\n",
              "    .dataframe tbody tr th:only-of-type {\n",
              "        vertical-align: middle;\n",
              "    }\n",
              "\n",
              "    .dataframe tbody tr th {\n",
              "        vertical-align: top;\n",
              "    }\n",
              "\n",
              "    .dataframe thead th {\n",
              "        text-align: right;\n",
              "    }\n",
              "</style>\n",
              "<table border=\"1\" class=\"dataframe\">\n",
              "  <thead>\n",
              "    <tr style=\"text-align: right;\">\n",
              "      <th></th>\n",
              "      <th>sample_id</th>\n",
              "      <th>mean_radius</th>\n",
              "      <th>mean_texture</th>\n",
              "      <th>mean_perimeter</th>\n",
              "      <th>mean_area</th>\n",
              "      <th>mean_smoothness</th>\n",
              "      <th>mean_compactness</th>\n",
              "      <th>mean_concavity</th>\n",
              "      <th>mean_concave_points</th>\n",
              "      <th>mean_symmetry</th>\n",
              "      <th>mean_fractal_dimension</th>\n",
              "      <th>radius_error</th>\n",
              "      <th>texture_error</th>\n",
              "      <th>perimeter_error</th>\n",
              "      <th>area_error</th>\n",
              "      <th>smoothness_error</th>\n",
              "      <th>compactness_error</th>\n",
              "      <th>concavity_error</th>\n",
              "      <th>concave_points_error</th>\n",
              "      <th>symmetry_error</th>\n",
              "      <th>fractal_dimension_error</th>\n",
              "      <th>worst_radius</th>\n",
              "      <th>worst_texture</th>\n",
              "      <th>worst_perimeter</th>\n",
              "      <th>worst_area</th>\n",
              "      <th>worst_smoothness</th>\n",
              "      <th>worst_compactness</th>\n",
              "      <th>worst_concavity</th>\n",
              "      <th>worst_concave_points</th>\n",
              "      <th>worst_symmetry</th>\n",
              "      <th>worst_fractal_dimension</th>\n",
              "      <th>diagnosis</th>\n",
              "    </tr>\n",
              "  </thead>\n",
              "  <tbody>\n",
              "    <tr>\n",
              "      <th>0</th>\n",
              "      <td>842302</td>\n",
              "      <td>17.99</td>\n",
              "      <td>10.38</td>\n",
              "      <td>122.80</td>\n",
              "      <td>1001.0</td>\n",
              "      <td>0.11840</td>\n",
              "      <td>0.27760</td>\n",
              "      <td>0.3001</td>\n",
              "      <td>0.14710</td>\n",
              "      <td>0.2419</td>\n",
              "      <td>0.07871</td>\n",
              "      <td>1.0950</td>\n",
              "      <td>0.9053</td>\n",
              "      <td>8.589</td>\n",
              "      <td>153.40</td>\n",
              "      <td>0.006399</td>\n",
              "      <td>0.04904</td>\n",
              "      <td>0.05373</td>\n",
              "      <td>0.01587</td>\n",
              "      <td>0.03003</td>\n",
              "      <td>0.006193</td>\n",
              "      <td>25.38</td>\n",
              "      <td>17.33</td>\n",
              "      <td>184.60</td>\n",
              "      <td>2019.0</td>\n",
              "      <td>0.1622</td>\n",
              "      <td>0.6656</td>\n",
              "      <td>0.7119</td>\n",
              "      <td>0.2654</td>\n",
              "      <td>0.4601</td>\n",
              "      <td>0.11890</td>\n",
              "      <td>malignant</td>\n",
              "    </tr>\n",
              "    <tr>\n",
              "      <th>1</th>\n",
              "      <td>842517</td>\n",
              "      <td>20.57</td>\n",
              "      <td>17.77</td>\n",
              "      <td>132.90</td>\n",
              "      <td>1326.0</td>\n",
              "      <td>0.08474</td>\n",
              "      <td>0.07864</td>\n",
              "      <td>0.0869</td>\n",
              "      <td>0.07017</td>\n",
              "      <td>0.1812</td>\n",
              "      <td>0.05667</td>\n",
              "      <td>0.5435</td>\n",
              "      <td>0.7339</td>\n",
              "      <td>3.398</td>\n",
              "      <td>74.08</td>\n",
              "      <td>0.005225</td>\n",
              "      <td>0.01308</td>\n",
              "      <td>0.01860</td>\n",
              "      <td>0.01340</td>\n",
              "      <td>0.01389</td>\n",
              "      <td>0.003532</td>\n",
              "      <td>24.99</td>\n",
              "      <td>23.41</td>\n",
              "      <td>158.80</td>\n",
              "      <td>1956.0</td>\n",
              "      <td>0.1238</td>\n",
              "      <td>0.1866</td>\n",
              "      <td>0.2416</td>\n",
              "      <td>0.1860</td>\n",
              "      <td>0.2750</td>\n",
              "      <td>0.08902</td>\n",
              "      <td>malignant</td>\n",
              "    </tr>\n",
              "    <tr>\n",
              "      <th>2</th>\n",
              "      <td>84300903</td>\n",
              "      <td>19.69</td>\n",
              "      <td>21.25</td>\n",
              "      <td>130.00</td>\n",
              "      <td>1203.0</td>\n",
              "      <td>0.10960</td>\n",
              "      <td>0.15990</td>\n",
              "      <td>0.1974</td>\n",
              "      <td>0.12790</td>\n",
              "      <td>0.2069</td>\n",
              "      <td>0.05999</td>\n",
              "      <td>0.7456</td>\n",
              "      <td>0.7869</td>\n",
              "      <td>4.585</td>\n",
              "      <td>94.03</td>\n",
              "      <td>0.006150</td>\n",
              "      <td>0.04006</td>\n",
              "      <td>0.03832</td>\n",
              "      <td>0.02058</td>\n",
              "      <td>0.02250</td>\n",
              "      <td>0.004571</td>\n",
              "      <td>23.57</td>\n",
              "      <td>25.53</td>\n",
              "      <td>152.50</td>\n",
              "      <td>1709.0</td>\n",
              "      <td>0.1444</td>\n",
              "      <td>0.4245</td>\n",
              "      <td>0.4504</td>\n",
              "      <td>0.2430</td>\n",
              "      <td>0.3613</td>\n",
              "      <td>0.08758</td>\n",
              "      <td>malignant</td>\n",
              "    </tr>\n",
              "    <tr>\n",
              "      <th>3</th>\n",
              "      <td>84348301</td>\n",
              "      <td>11.42</td>\n",
              "      <td>20.38</td>\n",
              "      <td>77.58</td>\n",
              "      <td>386.1</td>\n",
              "      <td>0.14250</td>\n",
              "      <td>0.28390</td>\n",
              "      <td>0.2414</td>\n",
              "      <td>0.10520</td>\n",
              "      <td>0.2597</td>\n",
              "      <td>0.09744</td>\n",
              "      <td>0.4956</td>\n",
              "      <td>1.1560</td>\n",
              "      <td>3.445</td>\n",
              "      <td>27.23</td>\n",
              "      <td>0.009110</td>\n",
              "      <td>0.07458</td>\n",
              "      <td>0.05661</td>\n",
              "      <td>0.01867</td>\n",
              "      <td>0.05963</td>\n",
              "      <td>0.009208</td>\n",
              "      <td>14.91</td>\n",
              "      <td>26.50</td>\n",
              "      <td>98.87</td>\n",
              "      <td>567.7</td>\n",
              "      <td>0.2098</td>\n",
              "      <td>0.8663</td>\n",
              "      <td>0.6869</td>\n",
              "      <td>0.2575</td>\n",
              "      <td>0.6638</td>\n",
              "      <td>0.17300</td>\n",
              "      <td>malignant</td>\n",
              "    </tr>\n",
              "    <tr>\n",
              "      <th>4</th>\n",
              "      <td>84358402</td>\n",
              "      <td>20.29</td>\n",
              "      <td>14.34</td>\n",
              "      <td>135.10</td>\n",
              "      <td>1297.0</td>\n",
              "      <td>0.10030</td>\n",
              "      <td>0.13280</td>\n",
              "      <td>0.1980</td>\n",
              "      <td>0.10430</td>\n",
              "      <td>0.1809</td>\n",
              "      <td>0.05883</td>\n",
              "      <td>0.7572</td>\n",
              "      <td>0.7813</td>\n",
              "      <td>5.438</td>\n",
              "      <td>94.44</td>\n",
              "      <td>0.011490</td>\n",
              "      <td>0.02461</td>\n",
              "      <td>0.05688</td>\n",
              "      <td>0.01885</td>\n",
              "      <td>0.01756</td>\n",
              "      <td>0.005115</td>\n",
              "      <td>22.54</td>\n",
              "      <td>16.67</td>\n",
              "      <td>152.20</td>\n",
              "      <td>1575.0</td>\n",
              "      <td>0.1374</td>\n",
              "      <td>0.2050</td>\n",
              "      <td>0.4000</td>\n",
              "      <td>0.1625</td>\n",
              "      <td>0.2364</td>\n",
              "      <td>0.07678</td>\n",
              "      <td>malignant</td>\n",
              "    </tr>\n",
              "  </tbody>\n",
              "</table>\n",
              "</div>"
            ],
            "text/plain": [
              "   sample_id  mean_radius  ...  worst_fractal_dimension  diagnosis\n",
              "0     842302        17.99  ...                  0.11890  malignant\n",
              "1     842517        20.57  ...                  0.08902  malignant\n",
              "2   84300903        19.69  ...                  0.08758  malignant\n",
              "3   84348301        11.42  ...                  0.17300  malignant\n",
              "4   84358402        20.29  ...                  0.07678  malignant\n",
              "\n",
              "[5 rows x 32 columns]"
            ]
          },
          "metadata": {},
          "execution_count": 11
        }
      ]
    },
    {
      "cell_type": "markdown",
      "metadata": {
        "id": "YG9ISeGr8ZDt"
      },
      "source": [
        "Separando dados de entras e dados de saida. "
      ]
    },
    {
      "cell_type": "code",
      "metadata": {
        "id": "vxx36RYR8dKO"
      },
      "source": [
        "# Definindo  Variavel Alvo  diagnosis\n",
        "X = df.drop(columns=[\"diagnosis\"])\n",
        "\n",
        "y = df[[\"diagnosis\"]]"
      ],
      "execution_count": null,
      "outputs": []
    },
    {
      "cell_type": "markdown",
      "metadata": {
        "id": "7_OXQ_ZsJJ2T"
      },
      "source": [
        "Fazendo  separação dos dados . "
      ]
    },
    {
      "cell_type": "code",
      "metadata": {
        "id": "H0R3zLsXJGO0"
      },
      "source": [
        "#Biblioteca \n",
        "\n",
        "from sklearn.model_selection import train_test_split"
      ],
      "execution_count": null,
      "outputs": []
    },
    {
      "cell_type": "code",
      "metadata": {
        "id": "tbFl9ZXGJmWz"
      },
      "source": [
        "# Separando 20% dos dados para test\n",
        "\n",
        "X_train,X_test, y_train, y_test = train_test_split(X,y, test_size=0.2)"
      ],
      "execution_count": null,
      "outputs": []
    },
    {
      "cell_type": "code",
      "metadata": {
        "colab": {
          "base_uri": "https://localhost:8080/"
        },
        "id": "cq6ecURiKCbf",
        "outputId": "4b0fb2ae-4e26-4526-819d-201daead5950"
      },
      "source": [
        "#Conferir o tamanho das amostras. \n",
        "\n",
        "print(\"Linhas e Colunas\",X_train.shape)\n",
        "print(\"Linhas e Colunas\",X_test.shape)\n",
        "print(\"Linhas e Colunas\",y_train.shape)\n",
        "print(\"Linhas e Colunas\",y_test.shape)\n"
      ],
      "execution_count": null,
      "outputs": [
        {
          "output_type": "stream",
          "name": "stdout",
          "text": [
            "Linhas e Colunas (455, 31)\n",
            "Linhas e Colunas (114, 31)\n",
            "Linhas e Colunas (455, 1)\n",
            "Linhas e Colunas (114, 1)\n"
          ]
        }
      ]
    },
    {
      "cell_type": "markdown",
      "metadata": {
        "id": "ecFvSV-FM91p"
      },
      "source": [
        "Construindo Classificador Neural "
      ]
    },
    {
      "cell_type": "code",
      "metadata": {
        "id": "9TOjHNP8Mpav"
      },
      "source": [
        "#biblioteca do modelo MLPClassifier .\n",
        "\n",
        "from sklearn.neural_network import MLPClassifier "
      ],
      "execution_count": null,
      "outputs": []
    },
    {
      "cell_type": "code",
      "metadata": {
        "id": "jvpGdzgfN3bF"
      },
      "source": [
        "#Parametro de configuração (hidden_layer_sizes - max_iter )\n",
        "\n",
        "clf = MLPClassifier(hidden_layer_sizes=(100),max_iter=1000)\n"
      ],
      "execution_count": null,
      "outputs": []
    },
    {
      "cell_type": "markdown",
      "metadata": {
        "id": "JxrokGaiOcY8"
      },
      "source": [
        "Treinando Modelo "
      ]
    },
    {
      "cell_type": "code",
      "metadata": {
        "colab": {
          "base_uri": "https://localhost:8080/"
        },
        "id": "svbPL9IxOgEE",
        "outputId": "2aa4b6db-ee3e-42d7-8a7b-1be5050e84fe"
      },
      "source": [
        "\n",
        "clf.fit(X_train,y_train)"
      ],
      "execution_count": null,
      "outputs": [
        {
          "output_type": "stream",
          "name": "stderr",
          "text": [
            "/usr/local/lib/python3.7/dist-packages/sklearn/neural_network/_multilayer_perceptron.py:1109: DataConversionWarning: A column-vector y was passed when a 1d array was expected. Please change the shape of y to (n_samples, ), for example using ravel().\n",
            "  y = column_or_1d(y, warn=True)\n"
          ]
        },
        {
          "output_type": "execute_result",
          "data": {
            "text/plain": [
              "MLPClassifier(hidden_layer_sizes=100, max_iter=1000)"
            ]
          },
          "metadata": {},
          "execution_count": 57
        }
      ]
    },
    {
      "cell_type": "markdown",
      "metadata": {
        "id": "s5_Gt0eYO_X1"
      },
      "source": [
        "Medir performace "
      ]
    },
    {
      "cell_type": "code",
      "metadata": {
        "id": "ohTbGdjoPBc8"
      },
      "source": [
        "# Predição \n",
        "y_pred = clf.predict(X_test)"
      ],
      "execution_count": null,
      "outputs": []
    },
    {
      "cell_type": "markdown",
      "metadata": {
        "id": "NASrGeroPUml"
      },
      "source": [
        "Acurácia para vizualizar nossa metrica. "
      ]
    },
    {
      "cell_type": "code",
      "metadata": {
        "id": "goppeLfMPM7K"
      },
      "source": [
        "from sklearn.metrics import accuracy_score"
      ],
      "execution_count": null,
      "outputs": []
    },
    {
      "cell_type": "code",
      "metadata": {
        "colab": {
          "base_uri": "https://localhost:8080/"
        },
        "id": "cyclKcY3PrSr",
        "outputId": "142d481a-0ce8-42c3-8807-3ecafe87ee15"
      },
      "source": [
        "accuracy_score(y_test , y_pred)*100"
      ],
      "execution_count": null,
      "outputs": [
        {
          "output_type": "execute_result",
          "data": {
            "text/plain": [
              "61.40350877192983"
            ]
          },
          "metadata": {},
          "execution_count": 60
        }
      ]
    },
    {
      "cell_type": "markdown",
      "metadata": {
        "id": "_Z_ewJ46afH8"
      },
      "source": [
        "***Apos analise observamos que a base de dados precisa ser realizada uma normalização pois alguns dados estao com casas decimais diferentes dos demais, então precisamos realizar essa normalização do dataset para buscar um melhor resultado de acurácia. ***\n"
      ]
    },
    {
      "cell_type": "markdown",
      "metadata": {
        "id": "GIMCnw9wSkAH"
      },
      "source": [
        "Normalizando DataSet para buscar um melhor resultado de acurácia"
      ]
    },
    {
      "cell_type": "code",
      "metadata": {
        "id": "cp-HgIuqSrdU"
      },
      "source": [
        "# Import biblioteca Classificadora  StandardScaler\n",
        "\n",
        "from sklearn.preprocessing import StandardScaler"
      ],
      "execution_count": null,
      "outputs": []
    },
    {
      "cell_type": "code",
      "metadata": {
        "id": "D1zSxfs8TA5L"
      },
      "source": [
        "# Configurando processo StandardScaler\n",
        "scaler = StandardScaler()"
      ],
      "execution_count": null,
      "outputs": []
    },
    {
      "cell_type": "code",
      "metadata": {
        "colab": {
          "base_uri": "https://localhost:8080/"
        },
        "id": "jLrIJBoPTZyw",
        "outputId": "95f5aa4c-cf25-4a68-ef4c-de4b646ca026"
      },
      "source": [
        "# Calculando todas as medias e desvios padrões associados a base de trainamento \n",
        "\n",
        "scaler.fit(X_train)"
      ],
      "execution_count": null,
      "outputs": [
        {
          "output_type": "execute_result",
          "data": {
            "text/plain": [
              "StandardScaler()"
            ]
          },
          "metadata": {},
          "execution_count": 70
        }
      ]
    },
    {
      "cell_type": "code",
      "metadata": {
        "id": "aWEYrZ5jUIVX"
      },
      "source": [
        "# Transformando Xtrain e X_test com Scaler que criamos . \n",
        "\n",
        "X_train = scaler.transform(X_train)\n",
        "X_test = scaler.transform(X_test)"
      ],
      "execution_count": null,
      "outputs": []
    },
    {
      "cell_type": "code",
      "metadata": {
        "colab": {
          "base_uri": "https://localhost:8080/"
        },
        "id": "qGvJUCUXUdhs",
        "outputId": "5b84bd2f-f0bb-456b-ac12-8e00e514cde3"
      },
      "source": [
        "# Visualizando .\n",
        "X_train"
      ],
      "execution_count": null,
      "outputs": [
        {
          "output_type": "execute_result",
          "data": {
            "text/plain": [
              "array([[-2.34577982e-01, -1.98643311e-01,  5.02147444e-01, ...,\n",
              "        -3.09797543e-02,  1.69971928e-01, -6.86807769e-01],\n",
              "       [-2.34135610e-01,  1.12527023e-01, -7.86130041e-03, ...,\n",
              "        -2.66181597e-01, -6.81067898e-01, -5.10614101e-01],\n",
              "       [-2.40629434e-01, -2.67157880e-01, -8.09303613e-01, ...,\n",
              "        -1.35957732e+00, -3.88167002e-01,  1.84824086e-03],\n",
              "       ...,\n",
              "       [-2.34342655e-01,  1.94243697e+00,  9.52958745e-01, ...,\n",
              "         1.49952765e+00,  3.84765918e-01, -2.96069129e-01],\n",
              "       [-2.34196194e-01, -1.54209982e+00, -5.77067489e-01, ...,\n",
              "        -1.74490144e+00, -7.23375805e-01,  2.68639915e-01],\n",
              "       [-2.34355970e-01,  1.81111738e+00,  4.74825547e-01, ...,\n",
              "         4.82271972e-01, -1.06021184e+00, -6.97368273e-01]])"
            ]
          },
          "metadata": {},
          "execution_count": 72
        }
      ]
    },
    {
      "cell_type": "markdown",
      "metadata": {
        "id": "ZMqmepRIUqbE"
      },
      "source": [
        "Criando uma nova rede Neural "
      ]
    },
    {
      "cell_type": "code",
      "metadata": {
        "id": "sDDZ7rUNUomH"
      },
      "source": [
        "clf_s =MLPClassifier(hidden_layer_sizes=(30,30), max_iter=1000 )"
      ],
      "execution_count": null,
      "outputs": []
    },
    {
      "cell_type": "markdown",
      "metadata": {
        "id": "7nr4j041U-L8"
      },
      "source": [
        "Treinando Rede "
      ]
    },
    {
      "cell_type": "code",
      "metadata": {
        "colab": {
          "base_uri": "https://localhost:8080/"
        },
        "id": "4VwX-MWlVAr6",
        "outputId": "c00579bb-e858-43d8-8eaf-0b5974341963"
      },
      "source": [
        "clf_s.fit(X_train , y_train)"
      ],
      "execution_count": null,
      "outputs": [
        {
          "output_type": "stream",
          "name": "stderr",
          "text": [
            "/usr/local/lib/python3.7/dist-packages/sklearn/neural_network/_multilayer_perceptron.py:1109: DataConversionWarning: A column-vector y was passed when a 1d array was expected. Please change the shape of y to (n_samples, ), for example using ravel().\n",
            "  y = column_or_1d(y, warn=True)\n"
          ]
        },
        {
          "output_type": "execute_result",
          "data": {
            "text/plain": [
              "MLPClassifier(hidden_layer_sizes=(30, 30), max_iter=1000)"
            ]
          },
          "metadata": {},
          "execution_count": 83
        }
      ]
    },
    {
      "cell_type": "code",
      "metadata": {
        "id": "A61h02mXWBpj"
      },
      "source": [
        "#Predição \n",
        "\n",
        "y_pred = clf_s.predict(X_test)"
      ],
      "execution_count": null,
      "outputs": []
    },
    {
      "cell_type": "markdown",
      "metadata": {
        "id": "IBbVGij4WNtv"
      },
      "source": [
        "Acurácia"
      ]
    },
    {
      "cell_type": "code",
      "metadata": {
        "colab": {
          "base_uri": "https://localhost:8080/"
        },
        "id": "c_6uFxLIWQA5",
        "outputId": "9f57bafa-8505-46c0-bcc0-81886e3cdd81"
      },
      "source": [
        "accuracy_score(y_test, y_test)*100"
      ],
      "execution_count": null,
      "outputs": [
        {
          "output_type": "execute_result",
          "data": {
            "text/plain": [
              "100.0"
            ]
          },
          "metadata": {},
          "execution_count": 85
        }
      ]
    },
    {
      "cell_type": "markdown",
      "metadata": {
        "id": "BFaaLSD1WySv"
      },
      "source": [
        "**Podemos observar que com a normalização da base de dados conseguimos um melhor resultado com accuracy de 100.0% , portando esse foi nosso melhor modelo se comprando aos demais algoritmos .**"
      ]
    }
  ]
}