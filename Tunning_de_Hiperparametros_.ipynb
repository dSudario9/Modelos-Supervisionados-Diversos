{
  "nbformat": 4,
  "nbformat_minor": 0,
  "metadata": {
    "colab": {
      "name": "Tunning_de_Hiperparametros_.ipynb",
      "provenance": [],
      "collapsed_sections": [],
      "include_colab_link": true
    },
    "kernelspec": {
      "name": "python3",
      "display_name": "Python 3"
    },
    "language_info": {
      "name": "python"
    }
  },
  "cells": [
    {
      "cell_type": "markdown",
      "metadata": {
        "id": "view-in-github",
        "colab_type": "text"
      },
      "source": [
        "<a href=\"https://colab.research.google.com/github/dSudario9/Modelos-Supervisionados-Diversos/blob/main/Tunning_de_Hiperparametros_.ipynb\" target=\"_parent\"><img src=\"https://colab.research.google.com/assets/colab-badge.svg\" alt=\"Open In Colab\"/></a>"
      ]
    },
    {
      "cell_type": "markdown",
      "metadata": {
        "id": "PitR4etDJHCR"
      },
      "source": [
        " **Classificação de saúde fetal.\n",
        " Nessa analise  vamos procurar o melhor classificador, aquel que tiver o melhor rsultado será o nosso modelo predefinido. "
      ]
    },
    {
      "cell_type": "code",
      "metadata": {
        "id": "US_m4YuFJJTg"
      },
      "source": [
        "# Import das Bibliotecas \n",
        "import pandas as pd"
      ],
      "execution_count": null,
      "outputs": []
    },
    {
      "cell_type": "markdown",
      "metadata": {
        "id": "FKArUEPoJ2zF"
      },
      "source": [
        "EDA"
      ]
    },
    {
      "cell_type": "code",
      "metadata": {
        "id": "PNDu5ozPo_ma"
      },
      "source": [
        "# import base de dados \n",
        "df = pd.read_csv(\"/content/fetal_health.csv\")"
      ],
      "execution_count": null,
      "outputs": []
    },
    {
      "cell_type": "code",
      "metadata": {
        "colab": {
          "base_uri": "https://localhost:8080/",
          "height": 241
        },
        "id": "sDjWSmQ0pGGH",
        "outputId": "639bc7d6-91aa-4006-b6d8-8ef3ad72af38"
      },
      "source": [
        "# Visualizar base de dados \n",
        "df.head()"
      ],
      "execution_count": null,
      "outputs": [
        {
          "output_type": "execute_result",
          "data": {
            "text/html": [
              "<div>\n",
              "<style scoped>\n",
              "    .dataframe tbody tr th:only-of-type {\n",
              "        vertical-align: middle;\n",
              "    }\n",
              "\n",
              "    .dataframe tbody tr th {\n",
              "        vertical-align: top;\n",
              "    }\n",
              "\n",
              "    .dataframe thead th {\n",
              "        text-align: right;\n",
              "    }\n",
              "</style>\n",
              "<table border=\"1\" class=\"dataframe\">\n",
              "  <thead>\n",
              "    <tr style=\"text-align: right;\">\n",
              "      <th></th>\n",
              "      <th>baseline value</th>\n",
              "      <th>accelerations</th>\n",
              "      <th>fetal_movement</th>\n",
              "      <th>uterine_contractions</th>\n",
              "      <th>light_decelerations</th>\n",
              "      <th>severe_decelerations</th>\n",
              "      <th>prolongued_decelerations</th>\n",
              "      <th>abnormal_short_term_variability</th>\n",
              "      <th>mean_value_of_short_term_variability</th>\n",
              "      <th>percentage_of_time_with_abnormal_long_term_variability</th>\n",
              "      <th>mean_value_of_long_term_variability</th>\n",
              "      <th>histogram_width</th>\n",
              "      <th>histogram_min</th>\n",
              "      <th>histogram_max</th>\n",
              "      <th>histogram_number_of_peaks</th>\n",
              "      <th>histogram_number_of_zeroes</th>\n",
              "      <th>histogram_mode</th>\n",
              "      <th>histogram_mean</th>\n",
              "      <th>histogram_median</th>\n",
              "      <th>histogram_variance</th>\n",
              "      <th>histogram_tendency</th>\n",
              "      <th>fetal_health</th>\n",
              "    </tr>\n",
              "  </thead>\n",
              "  <tbody>\n",
              "    <tr>\n",
              "      <th>0</th>\n",
              "      <td>120.0</td>\n",
              "      <td>0.000</td>\n",
              "      <td>0.0</td>\n",
              "      <td>0.000</td>\n",
              "      <td>0.000</td>\n",
              "      <td>0.0</td>\n",
              "      <td>0.0</td>\n",
              "      <td>73.0</td>\n",
              "      <td>0.5</td>\n",
              "      <td>43.0</td>\n",
              "      <td>2.4</td>\n",
              "      <td>64.0</td>\n",
              "      <td>62.0</td>\n",
              "      <td>126.0</td>\n",
              "      <td>2.0</td>\n",
              "      <td>0.0</td>\n",
              "      <td>120.0</td>\n",
              "      <td>137.0</td>\n",
              "      <td>121.0</td>\n",
              "      <td>73.0</td>\n",
              "      <td>1.0</td>\n",
              "      <td>2.0</td>\n",
              "    </tr>\n",
              "    <tr>\n",
              "      <th>1</th>\n",
              "      <td>132.0</td>\n",
              "      <td>0.006</td>\n",
              "      <td>0.0</td>\n",
              "      <td>0.006</td>\n",
              "      <td>0.003</td>\n",
              "      <td>0.0</td>\n",
              "      <td>0.0</td>\n",
              "      <td>17.0</td>\n",
              "      <td>2.1</td>\n",
              "      <td>0.0</td>\n",
              "      <td>10.4</td>\n",
              "      <td>130.0</td>\n",
              "      <td>68.0</td>\n",
              "      <td>198.0</td>\n",
              "      <td>6.0</td>\n",
              "      <td>1.0</td>\n",
              "      <td>141.0</td>\n",
              "      <td>136.0</td>\n",
              "      <td>140.0</td>\n",
              "      <td>12.0</td>\n",
              "      <td>0.0</td>\n",
              "      <td>1.0</td>\n",
              "    </tr>\n",
              "    <tr>\n",
              "      <th>2</th>\n",
              "      <td>133.0</td>\n",
              "      <td>0.003</td>\n",
              "      <td>0.0</td>\n",
              "      <td>0.008</td>\n",
              "      <td>0.003</td>\n",
              "      <td>0.0</td>\n",
              "      <td>0.0</td>\n",
              "      <td>16.0</td>\n",
              "      <td>2.1</td>\n",
              "      <td>0.0</td>\n",
              "      <td>13.4</td>\n",
              "      <td>130.0</td>\n",
              "      <td>68.0</td>\n",
              "      <td>198.0</td>\n",
              "      <td>5.0</td>\n",
              "      <td>1.0</td>\n",
              "      <td>141.0</td>\n",
              "      <td>135.0</td>\n",
              "      <td>138.0</td>\n",
              "      <td>13.0</td>\n",
              "      <td>0.0</td>\n",
              "      <td>1.0</td>\n",
              "    </tr>\n",
              "    <tr>\n",
              "      <th>3</th>\n",
              "      <td>134.0</td>\n",
              "      <td>0.003</td>\n",
              "      <td>0.0</td>\n",
              "      <td>0.008</td>\n",
              "      <td>0.003</td>\n",
              "      <td>0.0</td>\n",
              "      <td>0.0</td>\n",
              "      <td>16.0</td>\n",
              "      <td>2.4</td>\n",
              "      <td>0.0</td>\n",
              "      <td>23.0</td>\n",
              "      <td>117.0</td>\n",
              "      <td>53.0</td>\n",
              "      <td>170.0</td>\n",
              "      <td>11.0</td>\n",
              "      <td>0.0</td>\n",
              "      <td>137.0</td>\n",
              "      <td>134.0</td>\n",
              "      <td>137.0</td>\n",
              "      <td>13.0</td>\n",
              "      <td>1.0</td>\n",
              "      <td>1.0</td>\n",
              "    </tr>\n",
              "    <tr>\n",
              "      <th>4</th>\n",
              "      <td>132.0</td>\n",
              "      <td>0.007</td>\n",
              "      <td>0.0</td>\n",
              "      <td>0.008</td>\n",
              "      <td>0.000</td>\n",
              "      <td>0.0</td>\n",
              "      <td>0.0</td>\n",
              "      <td>16.0</td>\n",
              "      <td>2.4</td>\n",
              "      <td>0.0</td>\n",
              "      <td>19.9</td>\n",
              "      <td>117.0</td>\n",
              "      <td>53.0</td>\n",
              "      <td>170.0</td>\n",
              "      <td>9.0</td>\n",
              "      <td>0.0</td>\n",
              "      <td>137.0</td>\n",
              "      <td>136.0</td>\n",
              "      <td>138.0</td>\n",
              "      <td>11.0</td>\n",
              "      <td>1.0</td>\n",
              "      <td>1.0</td>\n",
              "    </tr>\n",
              "  </tbody>\n",
              "</table>\n",
              "</div>"
            ],
            "text/plain": [
              "   baseline value  accelerations  ...  histogram_tendency  fetal_health\n",
              "0           120.0          0.000  ...                 1.0           2.0\n",
              "1           132.0          0.006  ...                 0.0           1.0\n",
              "2           133.0          0.003  ...                 0.0           1.0\n",
              "3           134.0          0.003  ...                 1.0           1.0\n",
              "4           132.0          0.007  ...                 1.0           1.0\n",
              "\n",
              "[5 rows x 22 columns]"
            ]
          },
          "metadata": {},
          "execution_count": 25
        }
      ]
    },
    {
      "cell_type": "code",
      "metadata": {
        "colab": {
          "base_uri": "https://localhost:8080/"
        },
        "id": "6hXoxP3gpH_m",
        "outputId": "165f774f-b3a5-414c-a722-88d9ea1f16a2"
      },
      "source": [
        "# Linha e Colunas \n",
        "df.shape"
      ],
      "execution_count": null,
      "outputs": [
        {
          "output_type": "execute_result",
          "data": {
            "text/plain": [
              "(2126, 22)"
            ]
          },
          "metadata": {},
          "execution_count": 26
        }
      ]
    },
    {
      "cell_type": "code",
      "metadata": {
        "id": "_Qz63avbpME4"
      },
      "source": [
        "# Definindo Variavel Target  alvo \n",
        "X = df.drop(columns=[\"fetal_health\"])\n",
        "Y = df[\"fetal_health\"]"
      ],
      "execution_count": null,
      "outputs": []
    },
    {
      "cell_type": "markdown",
      "metadata": {
        "id": "ei9Ky9sZLZeX"
      },
      "source": [
        "**Separando dados em Train e Test **"
      ]
    },
    {
      "cell_type": "code",
      "metadata": {
        "id": "jYTmOPu2pYmv"
      },
      "source": [
        "# Import de Biblioteca do Modelo e função Train_test_split.\n",
        "\n",
        "from sklearn.model_selection import train_test_split"
      ],
      "execution_count": null,
      "outputs": []
    },
    {
      "cell_type": "code",
      "metadata": {
        "id": "kL2TwbqFplEX"
      },
      "source": [
        "# Separando 205 do dataset para test \n",
        "X_train, X_test, y_train, y_test = train_test_split(X, Y, test_size=0.2)"
      ],
      "execution_count": null,
      "outputs": []
    },
    {
      "cell_type": "code",
      "metadata": {
        "colab": {
          "base_uri": "https://localhost:8080/"
        },
        "id": "KCLOADndpvBq",
        "outputId": "1f2b45a4-23d8-42cd-fddb-9d8aacd5b9b3"
      },
      "source": [
        "print(f'X_train{X_train.shape}')\n",
        "print(f'X_test{X_test.shape}')\n",
        "print(f'y_train{y_train.shape}')\n",
        "print(f'y_test{y_test.shape}')\n",
        "\n",
        "\n"
      ],
      "execution_count": null,
      "outputs": [
        {
          "output_type": "stream",
          "name": "stdout",
          "text": [
            "X_train(1700, 21)\n",
            "X_test(426, 21)\n",
            "y_train(1700,)\n",
            "y_test(426,)\n"
          ]
        }
      ]
    },
    {
      "cell_type": "markdown",
      "metadata": {
        "id": "f9MmgRsiMqDq"
      },
      "source": [
        "*** Criando Classificador RandomForestClassifier***"
      ]
    },
    {
      "cell_type": "code",
      "metadata": {
        "id": "d8fZv5Vbp3u4"
      },
      "source": [
        "# import \n",
        "from sklearn.ensemble import RandomForestClassifier"
      ],
      "execution_count": null,
      "outputs": []
    },
    {
      "cell_type": "code",
      "metadata": {
        "id": "0fIDeDG_qKDF"
      },
      "source": [
        "# Classificador \n",
        "clf = RandomForestClassifier()\n"
      ],
      "execution_count": null,
      "outputs": []
    },
    {
      "cell_type": "markdown",
      "metadata": {
        "id": "ikM2RLM8M5ot"
      },
      "source": [
        "***Treinando Modelo ***"
      ]
    },
    {
      "cell_type": "code",
      "metadata": {
        "colab": {
          "base_uri": "https://localhost:8080/"
        },
        "id": "MnHLFBkcqXFt",
        "outputId": "989fc9b8-c733-4589-8d6a-f2efb643db03"
      },
      "source": [
        "clf.fit(X_train, y_train)"
      ],
      "execution_count": null,
      "outputs": [
        {
          "output_type": "execute_result",
          "data": {
            "text/plain": [
              "RandomForestClassifier()"
            ]
          },
          "metadata": {},
          "execution_count": 44
        }
      ]
    },
    {
      "cell_type": "code",
      "metadata": {
        "id": "7-uQszTZqaPO"
      },
      "source": [
        "# Predição \n",
        "y_pred = clf.predict(X_test)"
      ],
      "execution_count": null,
      "outputs": []
    },
    {
      "cell_type": "markdown",
      "metadata": {
        "id": "KesXy_jRNfqB"
      },
      "source": [
        "Metrica F1 SCORE "
      ]
    },
    {
      "cell_type": "code",
      "metadata": {
        "id": "ddyScUtJqhqU"
      },
      "source": [
        "# Import metrica \n",
        "from sklearn.metrics import f1_score"
      ],
      "execution_count": null,
      "outputs": []
    },
    {
      "cell_type": "code",
      "metadata": {
        "colab": {
          "base_uri": "https://localhost:8080/"
        },
        "id": "vC3rnJS7qtd-",
        "outputId": "338ad48e-821b-4bbb-e775-fd54daf455ab"
      },
      "source": [
        "f1_score(y_test,y_pred, average='weighted')*100"
      ],
      "execution_count": null,
      "outputs": [
        {
          "output_type": "execute_result",
          "data": {
            "text/plain": [
              "93.48180035497539"
            ]
          },
          "metadata": {},
          "execution_count": 47
        }
      ]
    },
    {
      "cell_type": "code",
      "metadata": {
        "id": "9W4BNnThrWzK"
      },
      "source": [
        "# Ultilizando Metodo GRID SEARCH  para buscar um melhor parametro\n"
      ],
      "execution_count": null,
      "outputs": []
    },
    {
      "cell_type": "code",
      "metadata": {
        "id": "EtTU-Zx_sAnV"
      },
      "source": [
        "# Import \n",
        "from sklearn.model_selection import GridSearchCV"
      ],
      "execution_count": null,
      "outputs": []
    },
    {
      "cell_type": "code",
      "metadata": {
        "id": "Al4OsS0vsAto"
      },
      "source": [
        "# Força nossos parametros a buscar as  melhores metricas criando um dicionario com os parametros da busca. \n",
        "params_grid = {\n",
        "    \"n_estimators\":[100, 150, 200],\n",
        "    \"criterion\":[\"gini\", \"entropy\"],\n",
        "    \"max_depth\":[None, 4, 5],\n",
        "    \"min_samples_split\":[2, 3, 4],\n",
        "    \"max_features\":['auto', 5, 8],\n",
        "    \"bootstrap\":[False, True]\n",
        "    \n",
        "}"
      ],
      "execution_count": null,
      "outputs": []
    },
    {
      "cell_type": "code",
      "metadata": {
        "colab": {
          "base_uri": "https://localhost:8080/"
        },
        "id": "XQqANAPSsAxc",
        "outputId": "b2682fcd-656d-4a1a-8dda-1761d3e38140"
      },
      "source": [
        "# Selecionando Classificador \n",
        "\n",
        "clf = RandomForestClassifier()\n",
        "\n",
        "# Fazendo Busca de Imperparametros \n",
        "\n",
        "grid_search = GridSearchCV(clf, param_grid=params_grid, cv=3, n_jobs=-1, verbose=2)\n",
        "\n",
        "# Selecionando os melhores parametros\n",
        "\n",
        "grid_search.fit(X_train, y_train)"
      ],
      "execution_count": null,
      "outputs": [
        {
          "output_type": "stream",
          "name": "stdout",
          "text": [
            "Fitting 3 folds for each of 324 candidates, totalling 972 fits\n"
          ]
        },
        {
          "output_type": "execute_result",
          "data": {
            "text/plain": [
              "GridSearchCV(cv=3, estimator=RandomForestClassifier(), n_jobs=-1,\n",
              "             param_grid={'bootstrap': [False, True],\n",
              "                         'criterion': ['gini', 'entropy'],\n",
              "                         'max_depth': [None, 4, 5],\n",
              "                         'max_features': ['auto', 5, 8],\n",
              "                         'min_samples_split': [2, 3, 4],\n",
              "                         'n_estimators': [100, 150, 200]},\n",
              "             verbose=2)"
            ]
          },
          "metadata": {},
          "execution_count": 55
        }
      ]
    },
    {
      "cell_type": "code",
      "metadata": {
        "colab": {
          "base_uri": "https://localhost:8080/"
        },
        "id": "DAdNGPUZVJdb",
        "outputId": "8edae6cb-06bc-40dc-e883-b7a641b850c1"
      },
      "source": [
        "# Visualizando os melhores parametros encontrados. \n",
        "grid_search.best_params_"
      ],
      "execution_count": null,
      "outputs": [
        {
          "output_type": "execute_result",
          "data": {
            "text/plain": [
              "{'bootstrap': True,\n",
              " 'criterion': 'entropy',\n",
              " 'max_depth': None,\n",
              " 'max_features': 8,\n",
              " 'min_samples_split': 3,\n",
              " 'n_estimators': 200}"
            ]
          },
          "metadata": {},
          "execution_count": 57
        }
      ]
    },
    {
      "cell_type": "code",
      "metadata": {
        "id": "Zh67OBGFzUDM"
      },
      "source": [
        "# # Visualizar o melhor Classificador estimador \n",
        "\n",
        "clf_best = grid_search.best_estimator_"
      ],
      "execution_count": null,
      "outputs": []
    },
    {
      "cell_type": "code",
      "metadata": {
        "id": "PkDuAATN1B8t"
      },
      "source": [
        "# Predição \n",
        "y_pred = clf_best.predict(X_test)"
      ],
      "execution_count": null,
      "outputs": []
    },
    {
      "cell_type": "code",
      "metadata": {
        "colab": {
          "base_uri": "https://localhost:8080/"
        },
        "id": "EiJI_awR1XiN",
        "outputId": "62a8bdac-fdb9-4cde-bc32-cdef2481792e"
      },
      "source": [
        "# Visualizando Resultado Metrica \n",
        "f1_score(y_test, y_pred, average=\"weighted\")*100"
      ],
      "execution_count": null,
      "outputs": [
        {
          "output_type": "execute_result",
          "data": {
            "text/plain": [
              "94.48735295481333"
            ]
          },
          "metadata": {},
          "execution_count": 60
        }
      ]
    },
    {
      "cell_type": "markdown",
      "metadata": {
        "id": "XKYH_z1kWBu8"
      },
      "source": [
        "**Observando o resultado da metrica com o  Imperparametro  conseguimos melhorar a performace  de 93.48180035497539%  para 94.48735295481333% .Podemos  realizar um Ajuste fino nos parametros acima no grid para melhorar nossa performace e encontrar um melhor resultado .**"
      ]
    },
    {
      "cell_type": "code",
      "metadata": {
        "id": "cvAuk72j1eJw"
      },
      "source": [
        ""
      ],
      "execution_count": null,
      "outputs": []
    },
    {
      "cell_type": "markdown",
      "metadata": {
        "id": "jFFpmNbLXnY8"
      },
      "source": [
        "Vamos testar uma outra Tecnica conhecida como BayesSearchCV para tentar customizar o modelo de uma melhor forma para simplificar nosso algoritio\n",
        "e afunilzar as buscar de imperparametros para nao precisar passar por todas as combinações "
      ]
    },
    {
      "cell_type": "code",
      "metadata": {
        "colab": {
          "base_uri": "https://localhost:8080/"
        },
        "id": "wBdUBRhH1-NI",
        "outputId": "02352f11-53d7-4e03-df4c-ae3f14f58564"
      },
      "source": [
        "# install da Biblioteca  scikit-optimize\n",
        "\n",
        "!pip install scikit-optimize"
      ],
      "execution_count": null,
      "outputs": [
        {
          "output_type": "stream",
          "name": "stdout",
          "text": [
            "Collecting scikit-optimize\n",
            "  Downloading scikit_optimize-0.9.0-py2.py3-none-any.whl (100 kB)\n",
            "\u001b[?25l\r\u001b[K     |███▎                            | 10 kB 38.3 MB/s eta 0:00:01\r\u001b[K     |██████▌                         | 20 kB 36.6 MB/s eta 0:00:01\r\u001b[K     |█████████▉                      | 30 kB 43.0 MB/s eta 0:00:01\r\u001b[K     |█████████████                   | 40 kB 27.3 MB/s eta 0:00:01\r\u001b[K     |████████████████▍               | 51 kB 16.0 MB/s eta 0:00:01\r\u001b[K     |███████████████████▋            | 61 kB 14.1 MB/s eta 0:00:01\r\u001b[K     |██████████████████████▉         | 71 kB 13.3 MB/s eta 0:00:01\r\u001b[K     |██████████████████████████▏     | 81 kB 14.6 MB/s eta 0:00:01\r\u001b[K     |█████████████████████████████▍  | 92 kB 13.1 MB/s eta 0:00:01\r\u001b[K     |████████████████████████████████| 100 kB 5.9 MB/s \n",
            "\u001b[?25hRequirement already satisfied: scipy>=0.19.1 in /usr/local/lib/python3.7/dist-packages (from scikit-optimize) (1.4.1)\n",
            "Requirement already satisfied: numpy>=1.13.3 in /usr/local/lib/python3.7/dist-packages (from scikit-optimize) (1.19.5)\n",
            "Requirement already satisfied: scikit-learn>=0.20.0 in /usr/local/lib/python3.7/dist-packages (from scikit-optimize) (1.0.1)\n",
            "Requirement already satisfied: joblib>=0.11 in /usr/local/lib/python3.7/dist-packages (from scikit-optimize) (1.1.0)\n",
            "Collecting pyaml>=16.9\n",
            "  Downloading pyaml-21.10.1-py2.py3-none-any.whl (24 kB)\n",
            "Requirement already satisfied: PyYAML in /usr/local/lib/python3.7/dist-packages (from pyaml>=16.9->scikit-optimize) (3.13)\n",
            "Requirement already satisfied: threadpoolctl>=2.0.0 in /usr/local/lib/python3.7/dist-packages (from scikit-learn>=0.20.0->scikit-optimize) (3.0.0)\n",
            "Installing collected packages: pyaml, scikit-optimize\n",
            "Successfully installed pyaml-21.10.1 scikit-optimize-0.9.0\n"
          ]
        }
      ]
    },
    {
      "cell_type": "code",
      "metadata": {
        "id": "pMG97cpQ1-Xx"
      },
      "source": [
        "# import da Biblioteca BayesSearchCV \n",
        "\n",
        "from skopt import BayesSearchCV"
      ],
      "execution_count": null,
      "outputs": []
    },
    {
      "cell_type": "code",
      "metadata": {
        "id": "Awg3EJ4m1-c9"
      },
      "source": [
        "# Criando Campo de busca com parametros . \n",
        "params_grid = {\n",
        "    \"n_estimators\":[100, 150, 200],\n",
        "    \"criterion\":[\"gini\", \"entropy\"],\n",
        "    \"max_depth\":[None, 4, 5],\n",
        "    \"min_samples_split\":[2, 3, 4],\n",
        "    \"max_features\":[3, 5, 8],\n",
        "    \"bootstrap\":[False, True]\n",
        "    \n",
        "}"
      ],
      "execution_count": null,
      "outputs": []
    },
    {
      "cell_type": "code",
      "metadata": {
        "colab": {
          "base_uri": "https://localhost:8080/"
        },
        "id": "nEoQ2uiB1-7d",
        "outputId": "5078fb49-1163-49ac-91d7-0645d946e991"
      },
      "source": [
        "# Construindo  Classificador \n",
        "clf = RandomForestClassifier()\n",
        "\n",
        "## Fazendo Busca de Imperparametros \n",
        "\n",
        "bayes_search = BayesSearchCV(clf, search_spaces=params_grid, cv=3, n_jobs=1,verbose=2)\n",
        "\n",
        "# Selecionando os melhores parametros. \n",
        "bayes_search.fit(X_train, y_train)"
      ],
      "execution_count": null,
      "outputs": [
        {
          "output_type": "stream",
          "name": "stdout",
          "text": [
            "Fitting 3 folds for each of 1 candidates, totalling 3 fits\n",
            "[CV] END bootstrap=True, criterion=entropy, max_depth=5, max_features=3, min_samples_split=4, n_estimators=200; total time=   0.4s\n",
            "[CV] END bootstrap=True, criterion=entropy, max_depth=5, max_features=3, min_samples_split=4, n_estimators=200; total time=   0.4s\n",
            "[CV] END bootstrap=True, criterion=entropy, max_depth=5, max_features=3, min_samples_split=4, n_estimators=200; total time=   0.4s\n",
            "Fitting 3 folds for each of 1 candidates, totalling 3 fits\n",
            "[CV] END bootstrap=True, criterion=gini, max_depth=5, max_features=5, min_samples_split=2, n_estimators=200; total time=   0.4s\n",
            "[CV] END bootstrap=True, criterion=gini, max_depth=5, max_features=5, min_samples_split=2, n_estimators=200; total time=   0.4s\n",
            "[CV] END bootstrap=True, criterion=gini, max_depth=5, max_features=5, min_samples_split=2, n_estimators=200; total time=   0.4s\n",
            "Fitting 3 folds for each of 1 candidates, totalling 3 fits\n",
            "[CV] END bootstrap=True, criterion=entropy, max_depth=4, max_features=8, min_samples_split=3, n_estimators=150; total time=   0.4s\n",
            "[CV] END bootstrap=True, criterion=entropy, max_depth=4, max_features=8, min_samples_split=3, n_estimators=150; total time=   0.4s\n",
            "[CV] END bootstrap=True, criterion=entropy, max_depth=4, max_features=8, min_samples_split=3, n_estimators=150; total time=   0.4s\n",
            "Fitting 3 folds for each of 1 candidates, totalling 3 fits\n",
            "[CV] END bootstrap=False, criterion=gini, max_depth=None, max_features=5, min_samples_split=3, n_estimators=100; total time=   0.3s\n",
            "[CV] END bootstrap=False, criterion=gini, max_depth=None, max_features=5, min_samples_split=3, n_estimators=100; total time=   0.3s\n",
            "[CV] END bootstrap=False, criterion=gini, max_depth=None, max_features=5, min_samples_split=3, n_estimators=100; total time=   0.3s\n",
            "Fitting 3 folds for each of 1 candidates, totalling 3 fits\n",
            "[CV] END bootstrap=False, criterion=gini, max_depth=4, max_features=5, min_samples_split=3, n_estimators=200; total time=   0.4s\n",
            "[CV] END bootstrap=False, criterion=gini, max_depth=4, max_features=5, min_samples_split=3, n_estimators=200; total time=   0.4s\n",
            "[CV] END bootstrap=False, criterion=gini, max_depth=4, max_features=5, min_samples_split=3, n_estimators=200; total time=   0.4s\n",
            "Fitting 3 folds for each of 1 candidates, totalling 3 fits\n",
            "[CV] END bootstrap=True, criterion=gini, max_depth=None, max_features=3, min_samples_split=3, n_estimators=100; total time=   0.2s\n",
            "[CV] END bootstrap=True, criterion=gini, max_depth=None, max_features=3, min_samples_split=3, n_estimators=100; total time=   0.2s\n",
            "[CV] END bootstrap=True, criterion=gini, max_depth=None, max_features=3, min_samples_split=3, n_estimators=100; total time=   0.2s\n",
            "Fitting 3 folds for each of 1 candidates, totalling 3 fits\n",
            "[CV] END bootstrap=True, criterion=gini, max_depth=5, max_features=8, min_samples_split=4, n_estimators=150; total time=   0.4s\n",
            "[CV] END bootstrap=True, criterion=gini, max_depth=5, max_features=8, min_samples_split=4, n_estimators=150; total time=   0.4s\n",
            "[CV] END bootstrap=True, criterion=gini, max_depth=5, max_features=8, min_samples_split=4, n_estimators=150; total time=   0.4s\n",
            "Fitting 3 folds for each of 1 candidates, totalling 3 fits\n",
            "[CV] END bootstrap=True, criterion=gini, max_depth=5, max_features=5, min_samples_split=4, n_estimators=200; total time=   0.4s\n",
            "[CV] END bootstrap=True, criterion=gini, max_depth=5, max_features=5, min_samples_split=4, n_estimators=200; total time=   0.4s\n",
            "[CV] END bootstrap=True, criterion=gini, max_depth=5, max_features=5, min_samples_split=4, n_estimators=200; total time=   0.4s\n",
            "Fitting 3 folds for each of 1 candidates, totalling 3 fits\n",
            "[CV] END bootstrap=False, criterion=entropy, max_depth=5, max_features=3, min_samples_split=3, n_estimators=200; total time=   0.4s\n",
            "[CV] END bootstrap=False, criterion=entropy, max_depth=5, max_features=3, min_samples_split=3, n_estimators=200; total time=   0.4s\n",
            "[CV] END bootstrap=False, criterion=entropy, max_depth=5, max_features=3, min_samples_split=3, n_estimators=200; total time=   0.4s\n",
            "Fitting 3 folds for each of 1 candidates, totalling 3 fits\n",
            "[CV] END bootstrap=True, criterion=gini, max_depth=5, max_features=5, min_samples_split=2, n_estimators=150; total time=   0.3s\n",
            "[CV] END bootstrap=True, criterion=gini, max_depth=5, max_features=5, min_samples_split=2, n_estimators=150; total time=   0.3s\n",
            "[CV] END bootstrap=True, criterion=gini, max_depth=5, max_features=5, min_samples_split=2, n_estimators=150; total time=   0.3s\n",
            "Fitting 3 folds for each of 1 candidates, totalling 3 fits\n",
            "[CV] END bootstrap=False, criterion=entropy, max_depth=4, max_features=5, min_samples_split=4, n_estimators=100; total time=   0.3s\n",
            "[CV] END bootstrap=False, criterion=entropy, max_depth=4, max_features=5, min_samples_split=4, n_estimators=100; total time=   0.2s\n",
            "[CV] END bootstrap=False, criterion=entropy, max_depth=4, max_features=5, min_samples_split=4, n_estimators=100; total time=   0.2s\n",
            "Fitting 3 folds for each of 1 candidates, totalling 3 fits\n",
            "[CV] END bootstrap=False, criterion=gini, max_depth=None, max_features=8, min_samples_split=3, n_estimators=100; total time=   0.5s\n",
            "[CV] END bootstrap=False, criterion=gini, max_depth=None, max_features=8, min_samples_split=3, n_estimators=100; total time=   0.4s\n",
            "[CV] END bootstrap=False, criterion=gini, max_depth=None, max_features=8, min_samples_split=3, n_estimators=100; total time=   0.4s\n",
            "Fitting 3 folds for each of 1 candidates, totalling 3 fits\n",
            "[CV] END bootstrap=True, criterion=entropy, max_depth=None, max_features=5, min_samples_split=4, n_estimators=150; total time=   0.5s\n",
            "[CV] END bootstrap=True, criterion=entropy, max_depth=None, max_features=5, min_samples_split=4, n_estimators=150; total time=   0.5s\n",
            "[CV] END bootstrap=True, criterion=entropy, max_depth=None, max_features=5, min_samples_split=4, n_estimators=150; total time=   0.4s\n",
            "Fitting 3 folds for each of 1 candidates, totalling 3 fits\n",
            "[CV] END bootstrap=True, criterion=gini, max_depth=None, max_features=5, min_samples_split=2, n_estimators=200; total time=   0.6s\n",
            "[CV] END bootstrap=True, criterion=gini, max_depth=None, max_features=5, min_samples_split=2, n_estimators=200; total time=   0.5s\n",
            "[CV] END bootstrap=True, criterion=gini, max_depth=None, max_features=5, min_samples_split=2, n_estimators=200; total time=   0.5s\n",
            "Fitting 3 folds for each of 1 candidates, totalling 3 fits\n",
            "[CV] END bootstrap=True, criterion=entropy, max_depth=None, max_features=5, min_samples_split=3, n_estimators=150; total time=   0.5s\n",
            "[CV] END bootstrap=True, criterion=entropy, max_depth=None, max_features=5, min_samples_split=3, n_estimators=150; total time=   0.5s\n",
            "[CV] END bootstrap=True, criterion=entropy, max_depth=None, max_features=5, min_samples_split=3, n_estimators=150; total time=   0.5s\n",
            "Fitting 3 folds for each of 1 candidates, totalling 3 fits\n",
            "[CV] END bootstrap=True, criterion=gini, max_depth=None, max_features=5, min_samples_split=4, n_estimators=200; total time=   0.6s\n",
            "[CV] END bootstrap=True, criterion=gini, max_depth=None, max_features=5, min_samples_split=4, n_estimators=200; total time=   0.5s\n",
            "[CV] END bootstrap=True, criterion=gini, max_depth=None, max_features=5, min_samples_split=4, n_estimators=200; total time=   0.5s\n",
            "Fitting 3 folds for each of 1 candidates, totalling 3 fits\n",
            "[CV] END bootstrap=True, criterion=gini, max_depth=4, max_features=3, min_samples_split=2, n_estimators=100; total time=   0.2s\n",
            "[CV] END bootstrap=True, criterion=gini, max_depth=4, max_features=3, min_samples_split=2, n_estimators=100; total time=   0.2s\n",
            "[CV] END bootstrap=True, criterion=gini, max_depth=4, max_features=3, min_samples_split=2, n_estimators=100; total time=   0.2s\n",
            "Fitting 3 folds for each of 1 candidates, totalling 3 fits\n",
            "[CV] END bootstrap=False, criterion=entropy, max_depth=None, max_features=3, min_samples_split=2, n_estimators=200; total time=   0.6s\n",
            "[CV] END bootstrap=False, criterion=entropy, max_depth=None, max_features=3, min_samples_split=2, n_estimators=200; total time=   0.6s\n",
            "[CV] END bootstrap=False, criterion=entropy, max_depth=None, max_features=3, min_samples_split=2, n_estimators=200; total time=   0.5s\n",
            "Fitting 3 folds for each of 1 candidates, totalling 3 fits\n",
            "[CV] END bootstrap=True, criterion=entropy, max_depth=None, max_features=8, min_samples_split=2, n_estimators=100; total time=   0.4s\n",
            "[CV] END bootstrap=True, criterion=entropy, max_depth=None, max_features=8, min_samples_split=2, n_estimators=100; total time=   0.4s\n",
            "[CV] END bootstrap=True, criterion=entropy, max_depth=None, max_features=8, min_samples_split=2, n_estimators=100; total time=   0.4s\n",
            "Fitting 3 folds for each of 1 candidates, totalling 3 fits\n",
            "[CV] END bootstrap=False, criterion=entropy, max_depth=5, max_features=8, min_samples_split=3, n_estimators=100; total time=   0.4s\n",
            "[CV] END bootstrap=False, criterion=entropy, max_depth=5, max_features=8, min_samples_split=3, n_estimators=100; total time=   0.3s\n",
            "[CV] END bootstrap=False, criterion=entropy, max_depth=5, max_features=8, min_samples_split=3, n_estimators=100; total time=   0.4s\n",
            "Fitting 3 folds for each of 1 candidates, totalling 3 fits\n",
            "[CV] END bootstrap=False, criterion=entropy, max_depth=None, max_features=8, min_samples_split=4, n_estimators=200; total time=   1.0s\n",
            "[CV] END bootstrap=False, criterion=entropy, max_depth=None, max_features=8, min_samples_split=4, n_estimators=200; total time=   0.9s\n",
            "[CV] END bootstrap=False, criterion=entropy, max_depth=None, max_features=8, min_samples_split=4, n_estimators=200; total time=   0.9s\n",
            "Fitting 3 folds for each of 1 candidates, totalling 3 fits\n",
            "[CV] END bootstrap=False, criterion=entropy, max_depth=None, max_features=5, min_samples_split=2, n_estimators=100; total time=   0.4s\n",
            "[CV] END bootstrap=False, criterion=entropy, max_depth=None, max_features=5, min_samples_split=2, n_estimators=100; total time=   0.4s\n",
            "[CV] END bootstrap=False, criterion=entropy, max_depth=None, max_features=5, min_samples_split=2, n_estimators=100; total time=   0.4s\n",
            "Fitting 3 folds for each of 1 candidates, totalling 3 fits\n",
            "[CV] END bootstrap=False, criterion=gini, max_depth=4, max_features=8, min_samples_split=4, n_estimators=200; total time=   0.5s\n",
            "[CV] END bootstrap=False, criterion=gini, max_depth=4, max_features=8, min_samples_split=4, n_estimators=200; total time=   0.5s\n",
            "[CV] END bootstrap=False, criterion=gini, max_depth=4, max_features=8, min_samples_split=4, n_estimators=200; total time=   0.5s\n",
            "Fitting 3 folds for each of 1 candidates, totalling 3 fits\n",
            "[CV] END bootstrap=True, criterion=entropy, max_depth=None, max_features=3, min_samples_split=4, n_estimators=100; total time=   0.3s\n",
            "[CV] END bootstrap=True, criterion=entropy, max_depth=None, max_features=3, min_samples_split=4, n_estimators=100; total time=   0.3s\n",
            "[CV] END bootstrap=True, criterion=entropy, max_depth=None, max_features=3, min_samples_split=4, n_estimators=100; total time=   0.2s\n",
            "Fitting 3 folds for each of 1 candidates, totalling 3 fits\n",
            "[CV] END bootstrap=True, criterion=entropy, max_depth=None, max_features=5, min_samples_split=2, n_estimators=150; total time=   0.5s\n",
            "[CV] END bootstrap=True, criterion=entropy, max_depth=None, max_features=5, min_samples_split=2, n_estimators=150; total time=   0.5s\n",
            "[CV] END bootstrap=True, criterion=entropy, max_depth=None, max_features=5, min_samples_split=2, n_estimators=150; total time=   0.5s\n"
          ]
        },
        {
          "output_type": "stream",
          "name": "stderr",
          "text": [
            "/usr/local/lib/python3.7/dist-packages/skopt/optimizer/optimizer.py:449: UserWarning: The objective has been evaluated at this point before.\n",
            "  warnings.warn(\"The objective has been evaluated \"\n"
          ]
        },
        {
          "output_type": "stream",
          "name": "stdout",
          "text": [
            "Fitting 3 folds for each of 1 candidates, totalling 3 fits\n",
            "[CV] END bootstrap=False, criterion=entropy, max_depth=None, max_features=5, min_samples_split=2, n_estimators=100; total time=   0.4s\n",
            "[CV] END bootstrap=False, criterion=entropy, max_depth=None, max_features=5, min_samples_split=2, n_estimators=100; total time=   0.4s\n",
            "[CV] END bootstrap=False, criterion=entropy, max_depth=None, max_features=5, min_samples_split=2, n_estimators=100; total time=   0.4s\n",
            "Fitting 3 folds for each of 1 candidates, totalling 3 fits\n",
            "[CV] END bootstrap=False, criterion=entropy, max_depth=None, max_features=5, min_samples_split=2, n_estimators=200; total time=   0.7s\n",
            "[CV] END bootstrap=False, criterion=entropy, max_depth=None, max_features=5, min_samples_split=2, n_estimators=200; total time=   0.7s\n",
            "[CV] END bootstrap=False, criterion=entropy, max_depth=None, max_features=5, min_samples_split=2, n_estimators=200; total time=   0.7s\n",
            "Fitting 3 folds for each of 1 candidates, totalling 3 fits\n",
            "[CV] END bootstrap=True, criterion=gini, max_depth=None, max_features=8, min_samples_split=2, n_estimators=150; total time=   0.5s\n",
            "[CV] END bootstrap=True, criterion=gini, max_depth=None, max_features=8, min_samples_split=2, n_estimators=150; total time=   0.5s\n",
            "[CV] END bootstrap=True, criterion=gini, max_depth=None, max_features=8, min_samples_split=2, n_estimators=150; total time=   0.5s\n",
            "Fitting 3 folds for each of 1 candidates, totalling 3 fits\n",
            "[CV] END bootstrap=True, criterion=entropy, max_depth=None, max_features=8, min_samples_split=3, n_estimators=200; total time=   0.8s\n",
            "[CV] END bootstrap=True, criterion=entropy, max_depth=None, max_features=8, min_samples_split=3, n_estimators=200; total time=   0.7s\n",
            "[CV] END bootstrap=True, criterion=entropy, max_depth=None, max_features=8, min_samples_split=3, n_estimators=200; total time=   0.7s\n",
            "Fitting 3 folds for each of 1 candidates, totalling 3 fits\n",
            "[CV] END bootstrap=False, criterion=entropy, max_depth=5, max_features=5, min_samples_split=4, n_estimators=150; total time=   0.4s\n",
            "[CV] END bootstrap=False, criterion=entropy, max_depth=5, max_features=5, min_samples_split=4, n_estimators=150; total time=   0.4s\n",
            "[CV] END bootstrap=False, criterion=entropy, max_depth=5, max_features=5, min_samples_split=4, n_estimators=150; total time=   0.4s\n",
            "Fitting 3 folds for each of 1 candidates, totalling 3 fits\n",
            "[CV] END bootstrap=False, criterion=gini, max_depth=None, max_features=3, min_samples_split=4, n_estimators=150; total time=   0.4s\n",
            "[CV] END bootstrap=False, criterion=gini, max_depth=None, max_features=3, min_samples_split=4, n_estimators=150; total time=   0.4s\n",
            "[CV] END bootstrap=False, criterion=gini, max_depth=None, max_features=3, min_samples_split=4, n_estimators=150; total time=   0.4s\n",
            "Fitting 3 folds for each of 1 candidates, totalling 3 fits\n",
            "[CV] END bootstrap=True, criterion=gini, max_depth=4, max_features=5, min_samples_split=4, n_estimators=100; total time=   0.2s\n",
            "[CV] END bootstrap=True, criterion=gini, max_depth=4, max_features=5, min_samples_split=4, n_estimators=100; total time=   0.2s\n",
            "[CV] END bootstrap=True, criterion=gini, max_depth=4, max_features=5, min_samples_split=4, n_estimators=100; total time=   0.2s\n",
            "Fitting 3 folds for each of 1 candidates, totalling 3 fits\n",
            "[CV] END bootstrap=False, criterion=entropy, max_depth=None, max_features=8, min_samples_split=3, n_estimators=150; total time=   0.8s\n",
            "[CV] END bootstrap=False, criterion=entropy, max_depth=None, max_features=8, min_samples_split=3, n_estimators=150; total time=   0.7s\n",
            "[CV] END bootstrap=False, criterion=entropy, max_depth=None, max_features=8, min_samples_split=3, n_estimators=150; total time=   0.7s\n",
            "Fitting 3 folds for each of 1 candidates, totalling 3 fits\n",
            "[CV] END bootstrap=True, criterion=entropy, max_depth=None, max_features=5, min_samples_split=4, n_estimators=100; total time=   0.3s\n",
            "[CV] END bootstrap=True, criterion=entropy, max_depth=None, max_features=5, min_samples_split=4, n_estimators=100; total time=   0.3s\n",
            "[CV] END bootstrap=True, criterion=entropy, max_depth=None, max_features=5, min_samples_split=4, n_estimators=100; total time=   0.3s\n",
            "Fitting 3 folds for each of 1 candidates, totalling 3 fits\n",
            "[CV] END bootstrap=True, criterion=entropy, max_depth=None, max_features=8, min_samples_split=2, n_estimators=200; total time=   0.8s\n",
            "[CV] END bootstrap=True, criterion=entropy, max_depth=None, max_features=8, min_samples_split=2, n_estimators=200; total time=   0.8s\n",
            "[CV] END bootstrap=True, criterion=entropy, max_depth=None, max_features=8, min_samples_split=2, n_estimators=200; total time=   0.7s\n",
            "Fitting 3 folds for each of 1 candidates, totalling 3 fits\n",
            "[CV] END bootstrap=False, criterion=gini, max_depth=None, max_features=5, min_samples_split=2, n_estimators=150; total time=   0.5s\n",
            "[CV] END bootstrap=False, criterion=gini, max_depth=None, max_features=5, min_samples_split=2, n_estimators=150; total time=   0.5s\n",
            "[CV] END bootstrap=False, criterion=gini, max_depth=None, max_features=5, min_samples_split=2, n_estimators=150; total time=   0.5s\n"
          ]
        },
        {
          "output_type": "stream",
          "name": "stderr",
          "text": [
            "/usr/local/lib/python3.7/dist-packages/skopt/optimizer/optimizer.py:449: UserWarning: The objective has been evaluated at this point before.\n",
            "  warnings.warn(\"The objective has been evaluated \"\n"
          ]
        },
        {
          "output_type": "stream",
          "name": "stdout",
          "text": [
            "Fitting 3 folds for each of 1 candidates, totalling 3 fits\n",
            "[CV] END bootstrap=False, criterion=entropy, max_depth=None, max_features=5, min_samples_split=2, n_estimators=200; total time=   0.7s\n",
            "[CV] END bootstrap=False, criterion=entropy, max_depth=None, max_features=5, min_samples_split=2, n_estimators=200; total time=   0.7s\n",
            "[CV] END bootstrap=False, criterion=entropy, max_depth=None, max_features=5, min_samples_split=2, n_estimators=200; total time=   0.7s\n",
            "Fitting 3 folds for each of 1 candidates, totalling 3 fits\n",
            "[CV] END bootstrap=False, criterion=entropy, max_depth=4, max_features=3, min_samples_split=3, n_estimators=150; total time=   0.3s\n",
            "[CV] END bootstrap=False, criterion=entropy, max_depth=4, max_features=3, min_samples_split=3, n_estimators=150; total time=   0.3s\n",
            "[CV] END bootstrap=False, criterion=entropy, max_depth=4, max_features=3, min_samples_split=3, n_estimators=150; total time=   0.3s\n",
            "Fitting 3 folds for each of 1 candidates, totalling 3 fits\n",
            "[CV] END bootstrap=False, criterion=entropy, max_depth=None, max_features=5, min_samples_split=4, n_estimators=200; total time=   0.7s\n",
            "[CV] END bootstrap=False, criterion=entropy, max_depth=None, max_features=5, min_samples_split=4, n_estimators=200; total time=   0.7s\n",
            "[CV] END bootstrap=False, criterion=entropy, max_depth=None, max_features=5, min_samples_split=4, n_estimators=200; total time=   0.7s\n",
            "Fitting 3 folds for each of 1 candidates, totalling 3 fits\n",
            "[CV] END bootstrap=False, criterion=gini, max_depth=5, max_features=8, min_samples_split=4, n_estimators=200; total time=   0.6s\n",
            "[CV] END bootstrap=False, criterion=gini, max_depth=5, max_features=8, min_samples_split=4, n_estimators=200; total time=   0.6s\n",
            "[CV] END bootstrap=False, criterion=gini, max_depth=5, max_features=8, min_samples_split=4, n_estimators=200; total time=   0.6s\n",
            "Fitting 3 folds for each of 1 candidates, totalling 3 fits\n",
            "[CV] END bootstrap=False, criterion=entropy, max_depth=None, max_features=3, min_samples_split=3, n_estimators=100; total time=   0.3s\n",
            "[CV] END bootstrap=False, criterion=entropy, max_depth=None, max_features=3, min_samples_split=3, n_estimators=100; total time=   0.3s\n",
            "[CV] END bootstrap=False, criterion=entropy, max_depth=None, max_features=3, min_samples_split=3, n_estimators=100; total time=   0.3s\n",
            "Fitting 3 folds for each of 1 candidates, totalling 3 fits\n",
            "[CV] END bootstrap=True, criterion=gini, max_depth=None, max_features=8, min_samples_split=4, n_estimators=200; total time=   0.7s\n",
            "[CV] END bootstrap=True, criterion=gini, max_depth=None, max_features=8, min_samples_split=4, n_estimators=200; total time=   0.7s\n",
            "[CV] END bootstrap=True, criterion=gini, max_depth=None, max_features=8, min_samples_split=4, n_estimators=200; total time=   0.7s\n"
          ]
        },
        {
          "output_type": "stream",
          "name": "stderr",
          "text": [
            "/usr/local/lib/python3.7/dist-packages/skopt/optimizer/optimizer.py:449: UserWarning: The objective has been evaluated at this point before.\n",
            "  warnings.warn(\"The objective has been evaluated \"\n"
          ]
        },
        {
          "output_type": "stream",
          "name": "stdout",
          "text": [
            "Fitting 3 folds for each of 1 candidates, totalling 3 fits\n",
            "[CV] END bootstrap=False, criterion=entropy, max_depth=None, max_features=5, min_samples_split=2, n_estimators=200; total time=   0.7s\n",
            "[CV] END bootstrap=False, criterion=entropy, max_depth=None, max_features=5, min_samples_split=2, n_estimators=200; total time=   0.7s\n",
            "[CV] END bootstrap=False, criterion=entropy, max_depth=None, max_features=5, min_samples_split=2, n_estimators=200; total time=   0.7s\n"
          ]
        },
        {
          "output_type": "stream",
          "name": "stderr",
          "text": [
            "/usr/local/lib/python3.7/dist-packages/skopt/optimizer/optimizer.py:449: UserWarning: The objective has been evaluated at this point before.\n",
            "  warnings.warn(\"The objective has been evaluated \"\n"
          ]
        },
        {
          "output_type": "stream",
          "name": "stdout",
          "text": [
            "Fitting 3 folds for each of 1 candidates, totalling 3 fits\n",
            "[CV] END bootstrap=False, criterion=entropy, max_depth=None, max_features=5, min_samples_split=2, n_estimators=200; total time=   0.7s\n",
            "[CV] END bootstrap=False, criterion=entropy, max_depth=None, max_features=5, min_samples_split=2, n_estimators=200; total time=   0.7s\n",
            "[CV] END bootstrap=False, criterion=entropy, max_depth=None, max_features=5, min_samples_split=2, n_estimators=200; total time=   0.7s\n",
            "Fitting 3 folds for each of 1 candidates, totalling 3 fits\n",
            "[CV] END bootstrap=False, criterion=entropy, max_depth=None, max_features=5, min_samples_split=3, n_estimators=200; total time=   0.7s\n",
            "[CV] END bootstrap=False, criterion=entropy, max_depth=None, max_features=5, min_samples_split=3, n_estimators=200; total time=   0.7s\n",
            "[CV] END bootstrap=False, criterion=entropy, max_depth=None, max_features=5, min_samples_split=3, n_estimators=200; total time=   0.7s\n"
          ]
        },
        {
          "output_type": "stream",
          "name": "stderr",
          "text": [
            "/usr/local/lib/python3.7/dist-packages/skopt/optimizer/optimizer.py:449: UserWarning: The objective has been evaluated at this point before.\n",
            "  warnings.warn(\"The objective has been evaluated \"\n"
          ]
        },
        {
          "output_type": "stream",
          "name": "stdout",
          "text": [
            "Fitting 3 folds for each of 1 candidates, totalling 3 fits\n",
            "[CV] END bootstrap=False, criterion=entropy, max_depth=None, max_features=5, min_samples_split=2, n_estimators=200; total time=   0.7s\n",
            "[CV] END bootstrap=False, criterion=entropy, max_depth=None, max_features=5, min_samples_split=2, n_estimators=200; total time=   0.7s\n",
            "[CV] END bootstrap=False, criterion=entropy, max_depth=None, max_features=5, min_samples_split=2, n_estimators=200; total time=   0.7s\n",
            "Fitting 3 folds for each of 1 candidates, totalling 3 fits\n",
            "[CV] END bootstrap=True, criterion=entropy, max_depth=5, max_features=8, min_samples_split=2, n_estimators=200; total time=   0.6s\n",
            "[CV] END bootstrap=True, criterion=entropy, max_depth=5, max_features=8, min_samples_split=2, n_estimators=200; total time=   0.6s\n",
            "[CV] END bootstrap=True, criterion=entropy, max_depth=5, max_features=8, min_samples_split=2, n_estimators=200; total time=   0.6s\n"
          ]
        },
        {
          "output_type": "stream",
          "name": "stderr",
          "text": [
            "/usr/local/lib/python3.7/dist-packages/skopt/optimizer/optimizer.py:449: UserWarning: The objective has been evaluated at this point before.\n",
            "  warnings.warn(\"The objective has been evaluated \"\n"
          ]
        },
        {
          "output_type": "stream",
          "name": "stdout",
          "text": [
            "Fitting 3 folds for each of 1 candidates, totalling 3 fits\n",
            "[CV] END bootstrap=False, criterion=entropy, max_depth=None, max_features=5, min_samples_split=2, n_estimators=200; total time=   0.7s\n",
            "[CV] END bootstrap=False, criterion=entropy, max_depth=None, max_features=5, min_samples_split=2, n_estimators=200; total time=   0.7s\n",
            "[CV] END bootstrap=False, criterion=entropy, max_depth=None, max_features=5, min_samples_split=2, n_estimators=200; total time=   0.7s\n"
          ]
        },
        {
          "output_type": "stream",
          "name": "stderr",
          "text": [
            "/usr/local/lib/python3.7/dist-packages/skopt/optimizer/optimizer.py:449: UserWarning: The objective has been evaluated at this point before.\n",
            "  warnings.warn(\"The objective has been evaluated \"\n"
          ]
        },
        {
          "output_type": "stream",
          "name": "stdout",
          "text": [
            "Fitting 3 folds for each of 1 candidates, totalling 3 fits\n",
            "[CV] END bootstrap=False, criterion=entropy, max_depth=None, max_features=5, min_samples_split=4, n_estimators=200; total time=   0.7s\n",
            "[CV] END bootstrap=False, criterion=entropy, max_depth=None, max_features=5, min_samples_split=4, n_estimators=200; total time=   0.7s\n",
            "[CV] END bootstrap=False, criterion=entropy, max_depth=None, max_features=5, min_samples_split=4, n_estimators=200; total time=   0.7s\n",
            "Fitting 3 folds for each of 1 candidates, totalling 3 fits\n",
            "[CV] END bootstrap=False, criterion=entropy, max_depth=None, max_features=5, min_samples_split=3, n_estimators=150; total time=   0.6s\n",
            "[CV] END bootstrap=False, criterion=entropy, max_depth=None, max_features=5, min_samples_split=3, n_estimators=150; total time=   0.5s\n",
            "[CV] END bootstrap=False, criterion=entropy, max_depth=None, max_features=5, min_samples_split=3, n_estimators=150; total time=   0.5s\n"
          ]
        },
        {
          "output_type": "execute_result",
          "data": {
            "text/plain": [
              "BayesSearchCV(cv=3, estimator=RandomForestClassifier(),\n",
              "              search_spaces={'bootstrap': [False, True],\n",
              "                             'criterion': ['gini', 'entropy'],\n",
              "                             'max_depth': [None, 4, 5],\n",
              "                             'max_features': [3, 5, 8],\n",
              "                             'min_samples_split': [2, 3, 4],\n",
              "                             'n_estimators': [100, 150, 200]},\n",
              "              verbose=2)"
            ]
          },
          "metadata": {},
          "execution_count": 65
        }
      ]
    },
    {
      "cell_type": "code",
      "metadata": {
        "colab": {
          "base_uri": "https://localhost:8080/"
        },
        "id": "XTvMFfS-bsZU",
        "outputId": "04680fc2-f02b-40e7-8e29-8958f79abedf"
      },
      "source": [
        "# Vizualizando os melhores parametros encontrados. \n",
        "bayes_search.best_params_"
      ],
      "execution_count": null,
      "outputs": [
        {
          "output_type": "execute_result",
          "data": {
            "text/plain": [
              "OrderedDict([('bootstrap', False),\n",
              "             ('criterion', 'entropy'),\n",
              "             ('max_depth', None),\n",
              "             ('max_features', 5),\n",
              "             ('min_samples_split', 2),\n",
              "             ('n_estimators', 200)])"
            ]
          },
          "metadata": {},
          "execution_count": 66
        }
      ]
    },
    {
      "cell_type": "code",
      "metadata": {
        "id": "XInXzuq_3G_Z"
      },
      "source": [
        "# Aqui atribuimos  os melhoes estimadores  com o parametro\n",
        "bayes_best = bayes_search.best_estimator_"
      ],
      "execution_count": null,
      "outputs": []
    },
    {
      "cell_type": "code",
      "metadata": {
        "id": "_1evH5vQ4gHx"
      },
      "source": [
        "y_pred = bayes_best.predict(X_test)"
      ],
      "execution_count": null,
      "outputs": []
    },
    {
      "cell_type": "code",
      "metadata": {
        "id": "Y0PyXFPZ4uuO",
        "colab": {
          "base_uri": "https://localhost:8080/"
        },
        "outputId": "f9b16c4c-f3c4-4e2d-d367-8e47072c8581"
      },
      "source": [
        "f1_score(y_test, y_pred, average=\"weighted\")*100"
      ],
      "execution_count": null,
      "outputs": [
        {
          "output_type": "execute_result",
          "data": {
            "text/plain": [
              "94.24504115646648"
            ]
          },
          "metadata": {},
          "execution_count": 70
        }
      ]
    },
    {
      "cell_type": "markdown",
      "metadata": {
        "id": "dcWgrJe4cBCw"
      },
      "source": [
        " **Nesse  imperparametro tivemos uma metrica de 94.24504115646648% podendo assim mudar os parametros afunilando o algoritimo para que possamos chegar a um melhor resultado. \n",
        "\n",
        "Esse Foi o nosso tunning de Imperparametros**"
      ]
    }
  ]
}