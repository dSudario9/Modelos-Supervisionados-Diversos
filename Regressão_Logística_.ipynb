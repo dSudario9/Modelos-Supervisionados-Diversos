{
  "nbformat": 4,
  "nbformat_minor": 5,
  "metadata": {
    "kernelspec": {
      "display_name": "Python 3 (ipykernel)",
      "language": "python",
      "name": "python3"
    },
    "language_info": {
      "codemirror_mode": {
        "name": "ipython",
        "version": 3
      },
      "file_extension": ".py",
      "mimetype": "text/x-python",
      "name": "python",
      "nbconvert_exporter": "python",
      "pygments_lexer": "ipython3",
      "version": "3.8.12"
    },
    "colab": {
      "name": "Regressão Logística .ipynb",
      "provenance": [],
      "include_colab_link": true
    }
  },
  "cells": [
    {
      "cell_type": "markdown",
      "metadata": {
        "id": "view-in-github",
        "colab_type": "text"
      },
      "source": [
        "<a href=\"https://colab.research.google.com/github/dSudario9/Modelos-Supervisionados-Diversos/blob/main/Regress%C3%A3o_Log%C3%ADstica_.ipynb\" target=\"_parent\"><img src=\"https://colab.research.google.com/assets/colab-badge.svg\" alt=\"Open In Colab\"/></a>"
      ]
    },
    {
      "cell_type": "code",
      "metadata": {
        "id": "4fa956a7"
      },
      "source": [
        "#Bibliotecas basicas . \n",
        "import pandas as pd \n"
      ],
      "id": "4fa956a7",
      "execution_count": null,
      "outputs": []
    },
    {
      "cell_type": "code",
      "metadata": {
        "id": "91498813",
        "outputId": "5c28856d-506b-4894-ed70-ec6c246307ac"
      },
      "source": [
        "#Importando Dataset\n",
        "iris_df = pd.read_csv('iris.csv',index_col=0)\n",
        "iris_df.head() #Leitura "
      ],
      "id": "91498813",
      "execution_count": null,
      "outputs": [
        {
          "data": {
            "text/html": [
              "<div>\n",
              "<style scoped>\n",
              "    .dataframe tbody tr th:only-of-type {\n",
              "        vertical-align: middle;\n",
              "    }\n",
              "\n",
              "    .dataframe tbody tr th {\n",
              "        vertical-align: top;\n",
              "    }\n",
              "\n",
              "    .dataframe thead th {\n",
              "        text-align: right;\n",
              "    }\n",
              "</style>\n",
              "<table border=\"1\" class=\"dataframe\">\n",
              "  <thead>\n",
              "    <tr style=\"text-align: right;\">\n",
              "      <th></th>\n",
              "      <th>sepal length (cm)</th>\n",
              "      <th>sepal width (cm)</th>\n",
              "      <th>petal length (cm)</th>\n",
              "      <th>petal width (cm)</th>\n",
              "      <th>target</th>\n",
              "      <th>target_name</th>\n",
              "    </tr>\n",
              "  </thead>\n",
              "  <tbody>\n",
              "    <tr>\n",
              "      <th>0</th>\n",
              "      <td>5.1</td>\n",
              "      <td>3.5</td>\n",
              "      <td>1.4</td>\n",
              "      <td>0.2</td>\n",
              "      <td>0</td>\n",
              "      <td>setosa</td>\n",
              "    </tr>\n",
              "    <tr>\n",
              "      <th>1</th>\n",
              "      <td>4.9</td>\n",
              "      <td>3.0</td>\n",
              "      <td>1.4</td>\n",
              "      <td>0.2</td>\n",
              "      <td>0</td>\n",
              "      <td>setosa</td>\n",
              "    </tr>\n",
              "    <tr>\n",
              "      <th>2</th>\n",
              "      <td>4.7</td>\n",
              "      <td>3.2</td>\n",
              "      <td>1.3</td>\n",
              "      <td>0.2</td>\n",
              "      <td>0</td>\n",
              "      <td>setosa</td>\n",
              "    </tr>\n",
              "    <tr>\n",
              "      <th>3</th>\n",
              "      <td>4.6</td>\n",
              "      <td>3.1</td>\n",
              "      <td>1.5</td>\n",
              "      <td>0.2</td>\n",
              "      <td>0</td>\n",
              "      <td>setosa</td>\n",
              "    </tr>\n",
              "    <tr>\n",
              "      <th>4</th>\n",
              "      <td>5.0</td>\n",
              "      <td>3.6</td>\n",
              "      <td>1.4</td>\n",
              "      <td>0.2</td>\n",
              "      <td>0</td>\n",
              "      <td>setosa</td>\n",
              "    </tr>\n",
              "  </tbody>\n",
              "</table>\n",
              "</div>"
            ],
            "text/plain": [
              "   sepal length (cm)  sepal width (cm)  petal length (cm)  petal width (cm)  \\\n",
              "0                5.1               3.5                1.4               0.2   \n",
              "1                4.9               3.0                1.4               0.2   \n",
              "2                4.7               3.2                1.3               0.2   \n",
              "3                4.6               3.1                1.5               0.2   \n",
              "4                5.0               3.6                1.4               0.2   \n",
              "\n",
              "   target target_name  \n",
              "0       0      setosa  \n",
              "1       0      setosa  \n",
              "2       0      setosa  \n",
              "3       0      setosa  \n",
              "4       0      setosa  "
            ]
          },
          "execution_count": 119,
          "metadata": {},
          "output_type": "execute_result"
        }
      ]
    },
    {
      "cell_type": "code",
      "metadata": {
        "id": "dcf1e548"
      },
      "source": [
        "#Vamos iniciar a separação dos dados para fazer o text \n",
        "\n",
        "# Import  de blibliotecas usadas para Modelo Regressão Logistico . \n",
        "from sklearn.linear_model import LogisticRegression\n",
        "from sklearn.model_selection import train_test_split"
      ],
      "id": "dcf1e548",
      "execution_count": null,
      "outputs": []
    },
    {
      "cell_type": "code",
      "metadata": {
        "id": "673c188e"
      },
      "source": [
        "#DROP DE COLUNAS QUE NAO USAREMOS . \n",
        "\n",
        "X = iris_df.drop(columns=[\"target\",\"target_name\"])\n",
        "y = iris_df[[\"target\"]]"
      ],
      "id": "673c188e",
      "execution_count": null,
      "outputs": []
    },
    {
      "cell_type": "code",
      "metadata": {
        "id": "9e1b93ee"
      },
      "source": [
        " #Preparando Modelo e usando 30% dos dados para test\n",
        "\n",
        "X_train, X_test, y_train, y_test = train_test_split(X, y ,test_size=0.3)\n"
      ],
      "id": "9e1b93ee",
      "execution_count": null,
      "outputs": []
    },
    {
      "cell_type": "code",
      "metadata": {
        "id": "9f079db4",
        "outputId": "b1d1c0ee-3c4b-4bd6-b288-7cf630014916"
      },
      "source": [
        "#Conferir o tamanho das amostras. \n",
        "\n",
        "print(\"Linhas e Colunas\",X_train.shape)\n",
        "print(\"Linhas e Colunas\",X_test.shape)\n",
        "print(\"Linhas e Colunas\",y_train.shape)\n",
        "print(\"Linhas e Colunas\",y_test.shape)\n",
        "\n",
        "#Dados preparados para Alimentar nosso modelo . "
      ],
      "id": "9f079db4",
      "execution_count": null,
      "outputs": [
        {
          "name": "stdout",
          "output_type": "stream",
          "text": [
            "Linhas e Colunas (105, 4)\n",
            "Linhas e Colunas (45, 4)\n",
            "Linhas e Colunas (105, 1)\n",
            "Linhas e Colunas (45, 1)\n"
          ]
        }
      ]
    },
    {
      "cell_type": "code",
      "metadata": {
        "id": "4387a414"
      },
      "source": [
        "#Construindo Classificador Regressão Logistica .\n",
        "\n",
        "#Modelo  'clf = LogisticRegression()''\n",
        "\n",
        "clf = LogisticRegression()\n"
      ],
      "id": "4387a414",
      "execution_count": null,
      "outputs": []
    },
    {
      "cell_type": "code",
      "metadata": {
        "scrolled": true,
        "id": "90ae87de",
        "outputId": "96415a17-0601-4e73-ed81-d2043f053b8d"
      },
      "source": [
        "# Processo de Treinar Modelo, (Nesse Topico mostramos  pro Modelo LogisticRegression quais features devem ser treinados )\n",
        "\n",
        "\n",
        "clf.fit(X_train, y_train)"
      ],
      "id": "90ae87de",
      "execution_count": null,
      "outputs": [
        {
          "name": "stderr",
          "output_type": "stream",
          "text": [
            "C:\\ProgramData\\Anaconda3\\lib\\site-packages\\sklearn\\utils\\validation.py:63: DataConversionWarning: A column-vector y was passed when a 1d array was expected. Please change the shape of y to (n_samples, ), for example using ravel().\n",
            "  return f(*args, **kwargs)\n"
          ]
        },
        {
          "data": {
            "text/plain": [
              "LogisticRegression()"
            ]
          },
          "execution_count": 125,
          "metadata": {},
          "output_type": "execute_result"
        }
      ]
    },
    {
      "cell_type": "code",
      "metadata": {
        "id": "525d9c96"
      },
      "source": [
        "#Agora vamos fazer a predição da nossa amostra de teste e verificar se o modelo consegiu performar. \n",
        "\n",
        "y_pred = clf.predict(X_test)\n"
      ],
      "id": "525d9c96",
      "execution_count": null,
      "outputs": []
    },
    {
      "cell_type": "code",
      "metadata": {
        "id": "80561ee9",
        "outputId": "1d72b2b3-c1ab-42f2-8c9d-374624793747"
      },
      "source": [
        "#Visualizar Y_PRED\n",
        "\n",
        "y_pred"
      ],
      "id": "80561ee9",
      "execution_count": null,
      "outputs": [
        {
          "data": {
            "text/plain": [
              "array([1, 0, 2, 0, 2, 0, 1, 0, 0, 0, 0, 2, 2, 1, 0, 2, 2, 2, 2, 1, 1, 0,\n",
              "       1, 2, 2, 1, 0, 1, 1, 1, 1, 0, 1, 2, 1, 1, 2, 1, 2, 2, 1, 2, 2, 2,\n",
              "       2], dtype=int64)"
            ]
          },
          "execution_count": 129,
          "metadata": {},
          "output_type": "execute_result"
        }
      ]
    },
    {
      "cell_type": "code",
      "metadata": {
        "id": "ffe87da1",
        "outputId": "cdf29f21-2ef7-4385-c462-6a57a0c2eda5"
      },
      "source": [
        "#Aqui mostra a  performace do modelo que o modelo consegiu treinar .\n",
        "\n",
        "# \n",
        "from sklearn.metrics import accuracy_score\n",
        "\n",
        "accuracy_score(y_test,y_pred)*100"
      ],
      "id": "ffe87da1",
      "execution_count": null,
      "outputs": [
        {
          "data": {
            "text/plain": [
              "95.55555555555556"
            ]
          },
          "execution_count": 130,
          "metadata": {},
          "output_type": "execute_result"
        }
      ]
    }
  ]
}