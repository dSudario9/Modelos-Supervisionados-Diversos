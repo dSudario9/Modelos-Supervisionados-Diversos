{
  "nbformat": 4,
  "nbformat_minor": 0,
  "metadata": {
    "colab": {
      "name": "Metricas e Avaliacoes.ipynb",
      "provenance": [],
      "collapsed_sections": [],
      "include_colab_link": true
    },
    "kernelspec": {
      "name": "python3",
      "display_name": "Python 3"
    },
    "language_info": {
      "name": "python"
    }
  },
  "cells": [
    {
      "cell_type": "markdown",
      "metadata": {
        "id": "view-in-github",
        "colab_type": "text"
      },
      "source": [
        "<a href=\"https://colab.research.google.com/github/dSudario9/Modelos-Supervisionados-Diversos/blob/main/Metricas_e_Avaliacoes.ipynb\" target=\"_parent\"><img src=\"https://colab.research.google.com/assets/colab-badge.svg\" alt=\"Open In Colab\"/></a>"
      ]
    },
    {
      "cell_type": "code",
      "metadata": {
        "id": "4zSx218NYfrr"
      },
      "source": [
        "# Import biblioteca \n",
        "import pandas as pd"
      ],
      "execution_count": 1,
      "outputs": []
    },
    {
      "cell_type": "code",
      "metadata": {
        "id": "axmybqamYfoL"
      },
      "source": [
        "# Import Base de dados \n",
        "df = pd.read_csv(\"/content/breast_cancer.csv\")"
      ],
      "execution_count": null,
      "outputs": []
    },
    {
      "cell_type": "code",
      "metadata": {
        "colab": {
          "base_uri": "https://localhost:8080/",
          "height": 156
        },
        "id": "IpbA3__uYfjR",
        "outputId": "4219219b-f8c9-46a2-b9af-b52ece285da1"
      },
      "source": [
        "# Vizualizar DataSet \n",
        "df.head(3)"
      ],
      "execution_count": null,
      "outputs": [
        {
          "output_type": "execute_result",
          "data": {
            "text/html": [
              "<div>\n",
              "<style scoped>\n",
              "    .dataframe tbody tr th:only-of-type {\n",
              "        vertical-align: middle;\n",
              "    }\n",
              "\n",
              "    .dataframe tbody tr th {\n",
              "        vertical-align: top;\n",
              "    }\n",
              "\n",
              "    .dataframe thead th {\n",
              "        text-align: right;\n",
              "    }\n",
              "</style>\n",
              "<table border=\"1\" class=\"dataframe\">\n",
              "  <thead>\n",
              "    <tr style=\"text-align: right;\">\n",
              "      <th></th>\n",
              "      <th>mean_radius</th>\n",
              "      <th>mean_texture</th>\n",
              "      <th>mean_perimeter</th>\n",
              "      <th>mean_area</th>\n",
              "      <th>mean_smoothness</th>\n",
              "      <th>mean_compactness</th>\n",
              "      <th>mean_concavity</th>\n",
              "      <th>mean_concave_points</th>\n",
              "      <th>mean_symmetry</th>\n",
              "      <th>mean_fractal_dimension</th>\n",
              "      <th>radius_error</th>\n",
              "      <th>texture_error</th>\n",
              "      <th>perimeter_error</th>\n",
              "      <th>area_error</th>\n",
              "      <th>smoothness_error</th>\n",
              "      <th>compactness_error</th>\n",
              "      <th>concavity_error</th>\n",
              "      <th>concave_points_error</th>\n",
              "      <th>symmetry_error</th>\n",
              "      <th>fractal_dimension_error</th>\n",
              "      <th>worst_radius</th>\n",
              "      <th>worst_texture</th>\n",
              "      <th>worst_perimeter</th>\n",
              "      <th>worst_area</th>\n",
              "      <th>worst_smoothness</th>\n",
              "      <th>worst_compactness</th>\n",
              "      <th>worst_concavity</th>\n",
              "      <th>worst_concave_points</th>\n",
              "      <th>worst_symmetry</th>\n",
              "      <th>worst_fractal_dimension</th>\n",
              "      <th>target</th>\n",
              "      <th>target_name</th>\n",
              "    </tr>\n",
              "  </thead>\n",
              "  <tbody>\n",
              "    <tr>\n",
              "      <th>0</th>\n",
              "      <td>17.99</td>\n",
              "      <td>10.38</td>\n",
              "      <td>122.8</td>\n",
              "      <td>1001.0</td>\n",
              "      <td>0.11840</td>\n",
              "      <td>0.27760</td>\n",
              "      <td>0.3001</td>\n",
              "      <td>0.14710</td>\n",
              "      <td>0.2419</td>\n",
              "      <td>0.07871</td>\n",
              "      <td>1.0950</td>\n",
              "      <td>0.9053</td>\n",
              "      <td>8.589</td>\n",
              "      <td>153.40</td>\n",
              "      <td>0.006399</td>\n",
              "      <td>0.04904</td>\n",
              "      <td>0.05373</td>\n",
              "      <td>0.01587</td>\n",
              "      <td>0.03003</td>\n",
              "      <td>0.006193</td>\n",
              "      <td>25.38</td>\n",
              "      <td>17.33</td>\n",
              "      <td>184.6</td>\n",
              "      <td>2019.0</td>\n",
              "      <td>0.1622</td>\n",
              "      <td>0.6656</td>\n",
              "      <td>0.7119</td>\n",
              "      <td>0.2654</td>\n",
              "      <td>0.4601</td>\n",
              "      <td>0.11890</td>\n",
              "      <td>0</td>\n",
              "      <td>malignant</td>\n",
              "    </tr>\n",
              "    <tr>\n",
              "      <th>1</th>\n",
              "      <td>20.57</td>\n",
              "      <td>17.77</td>\n",
              "      <td>132.9</td>\n",
              "      <td>1326.0</td>\n",
              "      <td>0.08474</td>\n",
              "      <td>0.07864</td>\n",
              "      <td>0.0869</td>\n",
              "      <td>0.07017</td>\n",
              "      <td>0.1812</td>\n",
              "      <td>0.05667</td>\n",
              "      <td>0.5435</td>\n",
              "      <td>0.7339</td>\n",
              "      <td>3.398</td>\n",
              "      <td>74.08</td>\n",
              "      <td>0.005225</td>\n",
              "      <td>0.01308</td>\n",
              "      <td>0.01860</td>\n",
              "      <td>0.01340</td>\n",
              "      <td>0.01389</td>\n",
              "      <td>0.003532</td>\n",
              "      <td>24.99</td>\n",
              "      <td>23.41</td>\n",
              "      <td>158.8</td>\n",
              "      <td>1956.0</td>\n",
              "      <td>0.1238</td>\n",
              "      <td>0.1866</td>\n",
              "      <td>0.2416</td>\n",
              "      <td>0.1860</td>\n",
              "      <td>0.2750</td>\n",
              "      <td>0.08902</td>\n",
              "      <td>0</td>\n",
              "      <td>malignant</td>\n",
              "    </tr>\n",
              "    <tr>\n",
              "      <th>2</th>\n",
              "      <td>19.69</td>\n",
              "      <td>21.25</td>\n",
              "      <td>130.0</td>\n",
              "      <td>1203.0</td>\n",
              "      <td>0.10960</td>\n",
              "      <td>0.15990</td>\n",
              "      <td>0.1974</td>\n",
              "      <td>0.12790</td>\n",
              "      <td>0.2069</td>\n",
              "      <td>0.05999</td>\n",
              "      <td>0.7456</td>\n",
              "      <td>0.7869</td>\n",
              "      <td>4.585</td>\n",
              "      <td>94.03</td>\n",
              "      <td>0.006150</td>\n",
              "      <td>0.04006</td>\n",
              "      <td>0.03832</td>\n",
              "      <td>0.02058</td>\n",
              "      <td>0.02250</td>\n",
              "      <td>0.004571</td>\n",
              "      <td>23.57</td>\n",
              "      <td>25.53</td>\n",
              "      <td>152.5</td>\n",
              "      <td>1709.0</td>\n",
              "      <td>0.1444</td>\n",
              "      <td>0.4245</td>\n",
              "      <td>0.4504</td>\n",
              "      <td>0.2430</td>\n",
              "      <td>0.3613</td>\n",
              "      <td>0.08758</td>\n",
              "      <td>0</td>\n",
              "      <td>malignant</td>\n",
              "    </tr>\n",
              "  </tbody>\n",
              "</table>\n",
              "</div>"
            ],
            "text/plain": [
              "   mean_radius  mean_texture  ...  target  target_name\n",
              "0        17.99         10.38  ...       0    malignant\n",
              "1        20.57         17.77  ...       0    malignant\n",
              "2        19.69         21.25  ...       0    malignant\n",
              "\n",
              "[3 rows x 32 columns]"
            ]
          },
          "metadata": {},
          "execution_count": 5
        }
      ]
    },
    {
      "cell_type": "code",
      "metadata": {
        "id": "gC_h3XMuYff5"
      },
      "source": [
        "# Excluindo Colunas nao ultilizadas .\n",
        "X = df.drop(columns=[\"target\", \"target_name\"])\n",
        "\n",
        "# Definindo Target alvo \n",
        "Y = df[[\"target\"]]"
      ],
      "execution_count": null,
      "outputs": []
    },
    {
      "cell_type": "markdown",
      "metadata": {
        "id": "5fVK7IcInhjo"
      },
      "source": [
        "***Separando base de dados em Train e Test ***"
      ]
    },
    {
      "cell_type": "code",
      "metadata": {
        "id": "qMi6nNn4YfQA"
      },
      "source": [
        "# Biblioteca \n",
        "from sklearn.model_selection import train_test_split"
      ],
      "execution_count": null,
      "outputs": []
    },
    {
      "cell_type": "code",
      "metadata": {
        "id": "Lea_u1mUbUKl"
      },
      "source": [
        "# Selecionando base de dados deixando 20% para Test \n",
        "X_train, X_test, y_train, y_test = train_test_split(X, Y, test_size=0.2)"
      ],
      "execution_count": null,
      "outputs": []
    },
    {
      "cell_type": "markdown",
      "metadata": {
        "id": "qVy3afk6nzKz"
      },
      "source": [
        "***Criando Classificador ***"
      ]
    },
    {
      "cell_type": "code",
      "metadata": {
        "id": "Vz8yHjrbbUZa"
      },
      "source": [
        "# Import de Biblioteca do Classificador RandomForestClassifier \n",
        "\n",
        "from sklearn.ensemble import RandomForestClassifier"
      ],
      "execution_count": null,
      "outputs": []
    },
    {
      "cell_type": "code",
      "metadata": {
        "id": "7_-Pg9vMbUhS"
      },
      "source": [
        "# Classificador criado ..\n",
        "clf = RandomForestClassifier()"
      ],
      "execution_count": null,
      "outputs": []
    },
    {
      "cell_type": "markdown",
      "metadata": {
        "id": "pBBCEJ1ooIqS"
      },
      "source": [
        "***Treinando Modelo ***"
      ]
    },
    {
      "cell_type": "code",
      "metadata": {
        "colab": {
          "base_uri": "https://localhost:8080/"
        },
        "id": "RBEWAcgEb3qd",
        "outputId": "50e4cbc4-cc26-41fb-f109-b50d820ddabc"
      },
      "source": [
        "# Train \n",
        "\n",
        "clf.fit(X_train, y_train)"
      ],
      "execution_count": null,
      "outputs": [
        {
          "output_type": "stream",
          "name": "stderr",
          "text": [
            "/usr/local/lib/python3.7/dist-packages/ipykernel_launcher.py:1: DataConversionWarning: A column-vector y was passed when a 1d array was expected. Please change the shape of y to (n_samples,), for example using ravel().\n",
            "  \"\"\"Entry point for launching an IPython kernel.\n"
          ]
        },
        {
          "output_type": "execute_result",
          "data": {
            "text/plain": [
              "RandomForestClassifier(bootstrap=True, ccp_alpha=0.0, class_weight=None,\n",
              "                       criterion='gini', max_depth=None, max_features='auto',\n",
              "                       max_leaf_nodes=None, max_samples=None,\n",
              "                       min_impurity_decrease=0.0, min_impurity_split=None,\n",
              "                       min_samples_leaf=1, min_samples_split=2,\n",
              "                       min_weight_fraction_leaf=0.0, n_estimators=100,\n",
              "                       n_jobs=None, oob_score=False, random_state=None,\n",
              "                       verbose=0, warm_start=False)"
            ]
          },
          "metadata": {},
          "execution_count": 17
        }
      ]
    },
    {
      "cell_type": "code",
      "metadata": {
        "id": "9FCs8mVkb3vn"
      },
      "source": [
        "# Fazendo Predição do Modelo . \n",
        "y_pred = clf.predict(X_test)"
      ],
      "execution_count": null,
      "outputs": []
    },
    {
      "cell_type": "markdown",
      "metadata": {
        "id": "tGeic3yxoUgA"
      },
      "source": [
        "Metricas "
      ]
    },
    {
      "cell_type": "code",
      "metadata": {
        "id": "KaFjOpCPb321"
      },
      "source": [
        "# Import de Metrics, Accuracy ,Precission score ,F1 Score , Recal score\n",
        "from sklearn.metrics import accuracy_score, precision_score, f1_score, recall_score"
      ],
      "execution_count": null,
      "outputs": []
    },
    {
      "cell_type": "code",
      "metadata": {
        "colab": {
          "base_uri": "https://localhost:8080/"
        },
        "id": "e0lAI732b3-E",
        "outputId": "18e7ac63-82d8-4b84-f803-300d2b9917ae"
      },
      "source": [
        "# Mostrando Resultados das Metricas selecionadas. \n",
        "print(f\"Acccuracy: {accuracy_score(y_test, y_pred)*100}%\")\n",
        "print(f\"Precision: {precision_score(y_test, y_pred)*100}%\")\n",
        "print(f\"Recall: {recall_score(y_test, y_pred)*100}%\")\n",
        "print(f\"F1: {f1_score(y_test, y_pred)*100}%\")"
      ],
      "execution_count": null,
      "outputs": [
        {
          "output_type": "stream",
          "name": "stdout",
          "text": [
            "Acccuracy: 97.36842105263158%\n",
            "Precision: 98.66666666666667%\n",
            "Recall: 97.36842105263158%\n",
            "F1: 98.01324503311258%\n"
          ]
        }
      ]
    },
    {
      "cell_type": "markdown",
      "metadata": {
        "id": "jU3AwE8dqd5J"
      },
      "source": [
        "Observando as metricas acimas vimos  que nem sempre a Acurácia é o melhor resultado para uma base desbalanceada, pois as metricas de Precision e F1 score podem dar um melhor resultado. Em caso de falsos positivos e falsos negativos que podem inflienciar no resultado do seu modelo, indicamos que use as metricas com melhor resultados como Recall, F1 score , elas podem apresentar melhor solução para o problema. "
      ]
    },
    {
      "cell_type": "markdown",
      "metadata": {
        "id": "2FMDNVQgq4DM"
      },
      "source": [
        "**Vamos ver um resumo das principais ações usando o metodo  classification_report**"
      ]
    },
    {
      "cell_type": "code",
      "metadata": {
        "id": "Yyl7sJAhdFW7"
      },
      "source": [
        "# Import Biblioteca e Classificador. \n",
        "from sklearn.metrics import classification_report"
      ],
      "execution_count": 2,
      "outputs": []
    },
    {
      "cell_type": "code",
      "metadata": {
        "colab": {
          "base_uri": "https://localhost:8080/"
        },
        "id": "-RgVWdtsdksH",
        "outputId": "b839060e-bad2-4cee-ed55-cd787ec43faf"
      },
      "source": [
        "\n",
        "print(classification_report(y_test, y_pred))"
      ],
      "execution_count": null,
      "outputs": [
        {
          "output_type": "stream",
          "name": "stdout",
          "text": [
            "              precision    recall  f1-score   support\n",
            "\n",
            "           0       0.95      0.97      0.96        38\n",
            "           1       0.99      0.97      0.98        76\n",
            "\n",
            "    accuracy                           0.97       114\n",
            "   macro avg       0.97      0.97      0.97       114\n",
            "weighted avg       0.97      0.97      0.97       114\n",
            "\n"
          ]
        }
      ]
    },
    {
      "cell_type": "markdown",
      "metadata": {
        "id": "bq3murKGsB7V"
      },
      "source": [
        "Nesse Resumo temos as colunas de Precission, Recall , F1 score, associada as classes Zero (0) que representa nossa Dataset e um (1) que representa a segunda classe, uma vez que estamos tratando de um problema  binario, mostrando a metrica de cada classe e em suport estão os registro associados para conseguir as os resultados ou seja as metricas de cada  classe."
      ]
    },
    {
      "cell_type": "markdown",
      "metadata": {
        "id": "Xp0QIY5TtVxs"
      },
      "source": [
        "***Nesse Ponto vamos verificar como esta a Matriz de confusão para entender como estao nossos dados verdadeiros positivos e verdadeiros negativos etc. ***"
      ]
    },
    {
      "cell_type": "code",
      "metadata": {
        "id": "ytSRpHWzerL7"
      },
      "source": [
        "# Import Classificador e biblioteca de plot graficos. \n",
        "\n",
        "from sklearn.metrics import plot_confusion_matrix\n",
        "import matplotlib.pyplot as plt"
      ],
      "execution_count": null,
      "outputs": []
    },
    {
      "cell_type": "code",
      "metadata": {
        "colab": {
          "base_uri": "https://localhost:8080/",
          "height": 279
        },
        "id": "Icg7qjKCgJr2",
        "outputId": "c3b34d99-634c-4fd9-8526-b9636cd2feb9"
      },
      "source": [
        "# Vizualizando Matriz de confusão \n",
        "plot_confusion_matrix(clf, X_test, y_test, display_labels=[\"maligno\", \"benigno\"], values_format='d')\n",
        "plt.grid(False)\n",
        "plt.show()"
      ],
      "execution_count": null,
      "outputs": [
        {
          "output_type": "display_data",
          "data": {
            "image/png": "[encoded data removed]",
            "text/plain": [
              "<Figure size 432x288 with 2 Axes>"
            ]
          },
          "metadata": {
            "needs_background": "light"
          }
        }
      ]
    },
    {
      "cell_type": "markdown",
      "metadata": {
        "id": "NEx-RPf7v2V3"
      },
      "source": [
        "Observando o grafico , vimos que tivemos três classificações erradas, uma que era maligno e o foi classificado como Benigno  e duas que era Benigno e foi classificado como Maligno, mais o que mais importa sao os valores altors na diagonal onde tivemos um resultado satisfatorio . de Benigno 74 e Maligno 37. "
      ]
    },
    {
      "cell_type": "markdown",
      "metadata": {
        "id": "xg-AQJeCw8i0"
      },
      "source": [
        "***Uma outra forma de analisarmos e a Curva Roc. ***"
      ]
    },
    {
      "cell_type": "code",
      "metadata": {
        "id": "1UwVEqqNgjCR"
      },
      "source": [
        "# Import de Classificador \n",
        "from sklearn.metrics import plot_roc_curve"
      ],
      "execution_count": null,
      "outputs": []
    },
    {
      "cell_type": "code",
      "metadata": {
        "colab": {
          "base_uri": "https://localhost:8080/",
          "height": 279
        },
        "id": "KEe-tILnhADK",
        "outputId": "54259bb8-c6e1-41ae-e457-ce7c7b556c1f"
      },
      "source": [
        "# Plot dos dados. \n",
        "plot_roc_curve(clf, X_test, y_test)\n",
        "plt.show()"
      ],
      "execution_count": null,
      "outputs": [
        {
          "output_type": "display_data",
          "data": {
            "image/png": "[encoded data removed]",
            "text/plain": [
              "<Figure size 432x288 with 1 Axes>"
            ]
          },
          "metadata": {
            "needs_background": "light"
          }
        }
      ]
    },
    {
      "cell_type": "markdown",
      "metadata": {
        "id": "aQ4Y1_dRxKdE"
      },
      "source": [
        " ***Nesse Classificador podemos ver que  na nossa curva roc tivemos uma taxa de falsos positivos baixos e uma taxa de verdadeiros positivos alto. \n",
        "AUC = área por baixo da curva 1% quanto mais biaxa a ac melhor nosso classificador."
      ]
    }
  ]
}